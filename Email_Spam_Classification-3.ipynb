{
 "cells": [
  {
   "cell_type": "markdown",
   "id": "8c069e25",
   "metadata": {
    "id": "8c069e25"
   },
   "source": [
    "# Email Spam Classification"
   ]
  },
  {
   "cell_type": "code",
   "execution_count": 1,
   "id": "PUNNBpr2gEMb",
   "metadata": {
    "id": "PUNNBpr2gEMb"
   },
   "outputs": [],
   "source": [
    "#from google.colab import drive\n",
    "#drive.mount('/content/drive')"
   ]
  },
  {
   "cell_type": "code",
   "execution_count": 2,
   "id": "f54c2edd",
   "metadata": {
    "id": "f54c2edd"
   },
   "outputs": [],
   "source": [
    "import numpy as np\n",
    "import pandas as pd\n",
    "import seaborn as sns\n",
    "import matplotlib.pyplot as plt\n",
    "import nltk"
   ]
  },
  {
   "cell_type": "code",
   "execution_count": 3,
   "id": "bf8e535d",
   "metadata": {
    "colab": {
     "base_uri": "https://localhost:8080/"
    },
    "id": "bf8e535d",
    "outputId": "9746946b-f94d-4e58-ff55-e9c7990c5a41",
    "scrolled": true
   },
   "outputs": [
    {
     "name": "stderr",
     "output_type": "stream",
     "text": [
      "[nltk_data] Downloading package punkt to /Users/heramb/nltk_data...\n",
      "[nltk_data]   Package punkt is already up-to-date!\n",
      "[nltk_data] Downloading package stopwords to\n",
      "[nltk_data]     /Users/heramb/nltk_data...\n",
      "[nltk_data]   Package stopwords is already up-to-date!\n"
     ]
    },
    {
     "data": {
      "text/plain": [
       "True"
      ]
     },
     "execution_count": 3,
     "metadata": {},
     "output_type": "execute_result"
    }
   ],
   "source": [
    "nltk.download('punkt')\n",
    "nltk.download('stopwords')"
   ]
  },
  {
   "cell_type": "code",
   "execution_count": 4,
   "id": "bb3516d5",
   "metadata": {
    "id": "bb3516d5"
   },
   "outputs": [],
   "source": [
    "# dataset 1"
   ]
  },
  {
   "cell_type": "code",
   "execution_count": 5,
   "id": "MexhqORcSpY_",
   "metadata": {
    "id": "MexhqORcSpY_"
   },
   "outputs": [],
   "source": [
    "#df1 = pd.read_csv(\"completeSpamAssassin.csv\", encoding='utf-8', error_bad_lines=False)\n"
   ]
  },
  {
   "cell_type": "code",
   "execution_count": 6,
   "id": "Ps22DSxAjeXe",
   "metadata": {
    "id": "Ps22DSxAjeXe"
   },
   "outputs": [],
   "source": [
    "df1 = pd.read_csv(\"completeSpamAssassin.csv\", encoding='utf-8')\n"
   ]
  },
  {
   "cell_type": "code",
   "execution_count": 7,
   "id": "c3c10896",
   "metadata": {
    "id": "c3c10896"
   },
   "outputs": [],
   "source": [
    "#df1 = pd.read_csv(\"completeSpamAssassin.csv\")"
   ]
  },
  {
   "cell_type": "code",
   "execution_count": 8,
   "id": "4dd2e606",
   "metadata": {
    "colab": {
     "base_uri": "https://localhost:8080/",
     "height": 359
    },
    "id": "4dd2e606",
    "outputId": "db62ea2b-c024-4e8f-ecbc-fe31df407eff"
   },
   "outputs": [
    {
     "data": {
      "text/html": [
       "<div>\n",
       "<style scoped>\n",
       "    .dataframe tbody tr th:only-of-type {\n",
       "        vertical-align: middle;\n",
       "    }\n",
       "\n",
       "    .dataframe tbody tr th {\n",
       "        vertical-align: top;\n",
       "    }\n",
       "\n",
       "    .dataframe thead th {\n",
       "        text-align: right;\n",
       "    }\n",
       "</style>\n",
       "<table border=\"1\" class=\"dataframe\">\n",
       "  <thead>\n",
       "    <tr style=\"text-align: right;\">\n",
       "      <th></th>\n",
       "      <th>Unnamed: 0</th>\n",
       "      <th>Body</th>\n",
       "      <th>Label</th>\n",
       "    </tr>\n",
       "  </thead>\n",
       "  <tbody>\n",
       "    <tr>\n",
       "      <th>0</th>\n",
       "      <td>0</td>\n",
       "      <td>\\nSave up to 70% on Life Insurance.\\nWhy Spend...</td>\n",
       "      <td>1</td>\n",
       "    </tr>\n",
       "    <tr>\n",
       "      <th>1</th>\n",
       "      <td>1</td>\n",
       "      <td>1) Fight The Risk of Cancer!\\nhttp://www.adcli...</td>\n",
       "      <td>1</td>\n",
       "    </tr>\n",
       "    <tr>\n",
       "      <th>2</th>\n",
       "      <td>2</td>\n",
       "      <td>1) Fight The Risk of Cancer!\\nhttp://www.adcli...</td>\n",
       "      <td>1</td>\n",
       "    </tr>\n",
       "    <tr>\n",
       "      <th>3</th>\n",
       "      <td>3</td>\n",
       "      <td>##############################################...</td>\n",
       "      <td>1</td>\n",
       "    </tr>\n",
       "    <tr>\n",
       "      <th>4</th>\n",
       "      <td>4</td>\n",
       "      <td>I thought you might like these:\\n1) Slim Down ...</td>\n",
       "      <td>1</td>\n",
       "    </tr>\n",
       "    <tr>\n",
       "      <th>5</th>\n",
       "      <td>5</td>\n",
       "      <td>A POWERHOUSE GIFTING PROGRAM You Don't Want To...</td>\n",
       "      <td>1</td>\n",
       "    </tr>\n",
       "    <tr>\n",
       "      <th>6</th>\n",
       "      <td>6</td>\n",
       "      <td>Help wanted.  We are a 14 year old fortune 500...</td>\n",
       "      <td>1</td>\n",
       "    </tr>\n",
       "    <tr>\n",
       "      <th>7</th>\n",
       "      <td>7</td>\n",
       "      <td>ReliaQuote - Save Up To 70% On Life Insurance\\...</td>\n",
       "      <td>1</td>\n",
       "    </tr>\n",
       "    <tr>\n",
       "      <th>8</th>\n",
       "      <td>8</td>\n",
       "      <td>TIRED OF THE BULL OUT THERE?\\nWant To Stop Los...</td>\n",
       "      <td>1</td>\n",
       "    </tr>\n",
       "    <tr>\n",
       "      <th>9</th>\n",
       "      <td>9</td>\n",
       "      <td>Dear ricardo1 ,\\nCOST EFFECTIVE Direct Email A...</td>\n",
       "      <td>1</td>\n",
       "    </tr>\n",
       "  </tbody>\n",
       "</table>\n",
       "</div>"
      ],
      "text/plain": [
       "   Unnamed: 0                                               Body  Label\n",
       "0           0  \\nSave up to 70% on Life Insurance.\\nWhy Spend...      1\n",
       "1           1  1) Fight The Risk of Cancer!\\nhttp://www.adcli...      1\n",
       "2           2  1) Fight The Risk of Cancer!\\nhttp://www.adcli...      1\n",
       "3           3  ##############################################...      1\n",
       "4           4  I thought you might like these:\\n1) Slim Down ...      1\n",
       "5           5  A POWERHOUSE GIFTING PROGRAM You Don't Want To...      1\n",
       "6           6  Help wanted.  We are a 14 year old fortune 500...      1\n",
       "7           7  ReliaQuote - Save Up To 70% On Life Insurance\\...      1\n",
       "8           8  TIRED OF THE BULL OUT THERE?\\nWant To Stop Los...      1\n",
       "9           9  Dear ricardo1 ,\\nCOST EFFECTIVE Direct Email A...      1"
      ]
     },
     "execution_count": 8,
     "metadata": {},
     "output_type": "execute_result"
    }
   ],
   "source": [
    "df1.head(10)"
   ]
  },
  {
   "cell_type": "code",
   "execution_count": 9,
   "id": "acd16562",
   "metadata": {
    "colab": {
     "base_uri": "https://localhost:8080/",
     "height": 359
    },
    "id": "acd16562",
    "outputId": "cc862db0-2215-4587-e60e-67130adcf150"
   },
   "outputs": [
    {
     "data": {
      "text/html": [
       "<div>\n",
       "<style scoped>\n",
       "    .dataframe tbody tr th:only-of-type {\n",
       "        vertical-align: middle;\n",
       "    }\n",
       "\n",
       "    .dataframe tbody tr th {\n",
       "        vertical-align: top;\n",
       "    }\n",
       "\n",
       "    .dataframe thead th {\n",
       "        text-align: right;\n",
       "    }\n",
       "</style>\n",
       "<table border=\"1\" class=\"dataframe\">\n",
       "  <thead>\n",
       "    <tr style=\"text-align: right;\">\n",
       "      <th></th>\n",
       "      <th>Unnamed: 0</th>\n",
       "      <th>Body</th>\n",
       "      <th>Label</th>\n",
       "    </tr>\n",
       "  </thead>\n",
       "  <tbody>\n",
       "    <tr>\n",
       "      <th>3484</th>\n",
       "      <td>3484</td>\n",
       "      <td>Razor won't filter empty emails. What version ...</td>\n",
       "      <td>0</td>\n",
       "    </tr>\n",
       "    <tr>\n",
       "      <th>2285</th>\n",
       "      <td>2285</td>\n",
       "      <td>Thanks Tony, but I think doing it using compon...</td>\n",
       "      <td>0</td>\n",
       "    </tr>\n",
       "    <tr>\n",
       "      <th>3405</th>\n",
       "      <td>3405</td>\n",
       "      <td>jm@jmason.org (Justin Mason) writes:&gt; Yes -- 5...</td>\n",
       "      <td>0</td>\n",
       "    </tr>\n",
       "    <tr>\n",
       "      <th>4610</th>\n",
       "      <td>4610</td>\n",
       "      <td>&gt;&gt; I swear to god you have to be so carefull w...</td>\n",
       "      <td>0</td>\n",
       "    </tr>\n",
       "    <tr>\n",
       "      <th>4782</th>\n",
       "      <td>4782</td>\n",
       "      <td>\\n&gt; &gt; hmm, I've never used gentoo\\n&gt; &gt; so I'l...</td>\n",
       "      <td>0</td>\n",
       "    </tr>\n",
       "    <tr>\n",
       "      <th>5767</th>\n",
       "      <td>5767</td>\n",
       "      <td>\\nForwarded-by: Rob Windsor \\nForwarded-by: LZ...</td>\n",
       "      <td>0</td>\n",
       "    </tr>\n",
       "    <tr>\n",
       "      <th>4176</th>\n",
       "      <td>4176</td>\n",
       "      <td>URL: http://www.newsisfree.com/click/-5,855354...</td>\n",
       "      <td>0</td>\n",
       "    </tr>\n",
       "    <tr>\n",
       "      <th>725</th>\n",
       "      <td>725</td>\n",
       "      <td>\\nHave you ever wondered how the hell these pe...</td>\n",
       "      <td>1</td>\n",
       "    </tr>\n",
       "    <tr>\n",
       "      <th>5148</th>\n",
       "      <td>5148</td>\n",
       "      <td>Interesting project involving geospatial data ...</td>\n",
       "      <td>0</td>\n",
       "    </tr>\n",
       "    <tr>\n",
       "      <th>1874</th>\n",
       "      <td>1874</td>\n",
       "      <td>empty</td>\n",
       "      <td>1</td>\n",
       "    </tr>\n",
       "  </tbody>\n",
       "</table>\n",
       "</div>"
      ],
      "text/plain": [
       "      Unnamed: 0                                               Body  Label\n",
       "3484        3484  Razor won't filter empty emails. What version ...      0\n",
       "2285        2285  Thanks Tony, but I think doing it using compon...      0\n",
       "3405        3405  jm@jmason.org (Justin Mason) writes:> Yes -- 5...      0\n",
       "4610        4610  >> I swear to god you have to be so carefull w...      0\n",
       "4782        4782   \\n> > hmm, I've never used gentoo\\n> > so I'l...      0\n",
       "5767        5767  \\nForwarded-by: Rob Windsor \\nForwarded-by: LZ...      0\n",
       "4176        4176  URL: http://www.newsisfree.com/click/-5,855354...      0\n",
       "725          725  \\nHave you ever wondered how the hell these pe...      1\n",
       "5148        5148  Interesting project involving geospatial data ...      0\n",
       "1874        1874                                              empty      1"
      ]
     },
     "execution_count": 9,
     "metadata": {},
     "output_type": "execute_result"
    }
   ],
   "source": [
    "df1.sample(10)"
   ]
  },
  {
   "cell_type": "code",
   "execution_count": 10,
   "id": "6110fb6a",
   "metadata": {
    "colab": {
     "base_uri": "https://localhost:8080/"
    },
    "id": "6110fb6a",
    "outputId": "e04f7049-0638-4627-d036-77d89383efc9"
   },
   "outputs": [
    {
     "data": {
      "text/plain": [
       "(6046, 3)"
      ]
     },
     "execution_count": 10,
     "metadata": {},
     "output_type": "execute_result"
    }
   ],
   "source": [
    "df1.shape"
   ]
  },
  {
   "cell_type": "code",
   "execution_count": 11,
   "id": "0362f441",
   "metadata": {
    "id": "0362f441"
   },
   "outputs": [],
   "source": [
    "# dataset 2"
   ]
  },
  {
   "cell_type": "code",
   "execution_count": 12,
   "id": "64571ee0",
   "metadata": {
    "id": "64571ee0"
   },
   "outputs": [],
   "source": [
    "df2 = pd.read_csv(\"spamemails.csv\", encoding='utf-8')"
   ]
  },
  {
   "cell_type": "code",
   "execution_count": 13,
   "id": "aafe63be",
   "metadata": {
    "colab": {
     "base_uri": "https://localhost:8080/"
    },
    "id": "aafe63be",
    "outputId": "6a7c9779-3fa0-4bc5-c019-2242a933ddab"
   },
   "outputs": [
    {
     "data": {
      "text/plain": [
       "(5572, 5)"
      ]
     },
     "execution_count": 13,
     "metadata": {},
     "output_type": "execute_result"
    }
   ],
   "source": [
    "df2.shape"
   ]
  },
  {
   "cell_type": "markdown",
   "id": "a2d5b281",
   "metadata": {
    "id": "a2d5b281"
   },
   "source": [
    "## 1. Data Cleaning"
   ]
  },
  {
   "cell_type": "code",
   "execution_count": 14,
   "id": "f66aece1",
   "metadata": {
    "colab": {
     "base_uri": "https://localhost:8080/"
    },
    "id": "f66aece1",
    "outputId": "5060277b-f9d6-4567-d5fb-2db895faad3d",
    "scrolled": true
   },
   "outputs": [
    {
     "name": "stdout",
     "output_type": "stream",
     "text": [
      "<class 'pandas.core.frame.DataFrame'>\n",
      "RangeIndex: 6046 entries, 0 to 6045\n",
      "Data columns (total 3 columns):\n",
      " #   Column      Non-Null Count  Dtype \n",
      "---  ------      --------------  ----- \n",
      " 0   Unnamed: 0  6046 non-null   int64 \n",
      " 1   Body        6045 non-null   object\n",
      " 2   Label       6046 non-null   int64 \n",
      "dtypes: int64(2), object(1)\n",
      "memory usage: 141.8+ KB\n"
     ]
    }
   ],
   "source": [
    " df1.info()"
   ]
  },
  {
   "cell_type": "code",
   "execution_count": 15,
   "id": "7a3bb921",
   "metadata": {
    "colab": {
     "base_uri": "https://localhost:8080/"
    },
    "id": "7a3bb921",
    "outputId": "ca77cb0b-4f64-4696-d141-831a73635dce",
    "scrolled": true
   },
   "outputs": [
    {
     "data": {
      "text/plain": [
       "Unnamed: 0    0\n",
       "Body          1\n",
       "Label         0\n",
       "dtype: int64"
      ]
     },
     "execution_count": 15,
     "metadata": {},
     "output_type": "execute_result"
    }
   ],
   "source": [
    "df1.isnull().sum()"
   ]
  },
  {
   "cell_type": "code",
   "execution_count": 16,
   "id": "1efa3684",
   "metadata": {
    "id": "1efa3684"
   },
   "outputs": [],
   "source": [
    "# Drop rows where 'Body' column is NaN or empty\n",
    "df1.dropna(subset=['Body'], inplace=True)"
   ]
  },
  {
   "cell_type": "code",
   "execution_count": 17,
   "id": "86c71c35",
   "metadata": {
    "colab": {
     "base_uri": "https://localhost:8080/"
    },
    "id": "86c71c35",
    "outputId": "2e2ec1fa-c7cd-469e-ad8d-e255d37e9710"
   },
   "outputs": [
    {
     "data": {
      "text/plain": [
       "0"
      ]
     },
     "execution_count": 17,
     "metadata": {},
     "output_type": "execute_result"
    }
   ],
   "source": [
    "df1.duplicated().sum()"
   ]
  },
  {
   "cell_type": "code",
   "execution_count": 18,
   "id": "eed31ac4",
   "metadata": {
    "id": "eed31ac4"
   },
   "outputs": [],
   "source": [
    "df1.drop(\"Unnamed: 0\", axis=1, inplace=True)"
   ]
  },
  {
   "cell_type": "code",
   "execution_count": 19,
   "id": "be100d9b",
   "metadata": {
    "colab": {
     "base_uri": "https://localhost:8080/",
     "height": 359
    },
    "id": "be100d9b",
    "outputId": "721ef6aa-41f4-42b5-b63e-75463db90579"
   },
   "outputs": [
    {
     "data": {
      "text/html": [
       "<div>\n",
       "<style scoped>\n",
       "    .dataframe tbody tr th:only-of-type {\n",
       "        vertical-align: middle;\n",
       "    }\n",
       "\n",
       "    .dataframe tbody tr th {\n",
       "        vertical-align: top;\n",
       "    }\n",
       "\n",
       "    .dataframe thead th {\n",
       "        text-align: right;\n",
       "    }\n",
       "</style>\n",
       "<table border=\"1\" class=\"dataframe\">\n",
       "  <thead>\n",
       "    <tr style=\"text-align: right;\">\n",
       "      <th></th>\n",
       "      <th>Body</th>\n",
       "      <th>Label</th>\n",
       "    </tr>\n",
       "  </thead>\n",
       "  <tbody>\n",
       "    <tr>\n",
       "      <th>4754</th>\n",
       "      <td>Rick Moen  wrote:\\n&gt; Don't like SuSE's product...</td>\n",
       "      <td>0</td>\n",
       "    </tr>\n",
       "    <tr>\n",
       "      <th>4372</th>\n",
       "      <td>\\n[Paul Moore]\\n&gt;    but let's walk before we ...</td>\n",
       "      <td>0</td>\n",
       "    </tr>\n",
       "    <tr>\n",
       "      <th>113</th>\n",
       "      <td>PoliceAuctions.coma:link{font-family:verdana;c...</td>\n",
       "      <td>1</td>\n",
       "    </tr>\n",
       "    <tr>\n",
       "      <th>358</th>\n",
       "      <td>OFFICE OF:EGNR. FEMI DANIEL\\nFEDERAL MINISTRY ...</td>\n",
       "      <td>1</td>\n",
       "    </tr>\n",
       "    <tr>\n",
       "      <th>4973</th>\n",
       "      <td>I'm still seeing this.  It reports to honor.cl...</td>\n",
       "      <td>0</td>\n",
       "    </tr>\n",
       "    <tr>\n",
       "      <th>5619</th>\n",
       "      <td>spamassassin-2.31-15.src.rpm is in RawHide. Ta...</td>\n",
       "      <td>0</td>\n",
       "    </tr>\n",
       "    <tr>\n",
       "      <th>870</th>\n",
       "      <td>Hello \\nTHIS E-MAIL AD IS BEING SENT IN FULL C...</td>\n",
       "      <td>1</td>\n",
       "    </tr>\n",
       "    <tr>\n",
       "      <th>1982</th>\n",
       "      <td>Reza B'Far wrote:\\n&gt;This thread kind of surpri...</td>\n",
       "      <td>0</td>\n",
       "    </tr>\n",
       "    <tr>\n",
       "      <th>3871</th>\n",
       "      <td>URL: http://www.newsisfree.com/click/-0,813222...</td>\n",
       "      <td>0</td>\n",
       "    </tr>\n",
       "    <tr>\n",
       "      <th>640</th>\n",
       "      <td>\\n Untitled Document         Â        Volume O...</td>\n",
       "      <td>1</td>\n",
       "    </tr>\n",
       "  </tbody>\n",
       "</table>\n",
       "</div>"
      ],
      "text/plain": [
       "                                                   Body  Label\n",
       "4754  Rick Moen  wrote:\\n> Don't like SuSE's product...      0\n",
       "4372  \\n[Paul Moore]\\n>    but let's walk before we ...      0\n",
       "113   PoliceAuctions.coma:link{font-family:verdana;c...      1\n",
       "358   OFFICE OF:EGNR. FEMI DANIEL\\nFEDERAL MINISTRY ...      1\n",
       "4973  I'm still seeing this.  It reports to honor.cl...      0\n",
       "5619  spamassassin-2.31-15.src.rpm is in RawHide. Ta...      0\n",
       "870   Hello \\nTHIS E-MAIL AD IS BEING SENT IN FULL C...      1\n",
       "1982  Reza B'Far wrote:\\n>This thread kind of surpri...      0\n",
       "3871  URL: http://www.newsisfree.com/click/-0,813222...      0\n",
       "640   \\n Untitled Document         Â        Volume O...      1"
      ]
     },
     "execution_count": 19,
     "metadata": {},
     "output_type": "execute_result"
    }
   ],
   "source": [
    "df1.sample(10)"
   ]
  },
  {
   "cell_type": "code",
   "execution_count": 20,
   "id": "df705e6b",
   "metadata": {
    "colab": {
     "base_uri": "https://localhost:8080/"
    },
    "id": "df705e6b",
    "outputId": "23826e02-1a3a-4b9c-d723-6902526b77fc",
    "scrolled": false
   },
   "outputs": [
    {
     "data": {
      "text/plain": [
       "(6045, 2)"
      ]
     },
     "execution_count": 20,
     "metadata": {},
     "output_type": "execute_result"
    }
   ],
   "source": [
    "df1.shape"
   ]
  },
  {
   "cell_type": "code",
   "execution_count": 21,
   "id": "45cefa7e",
   "metadata": {
    "colab": {
     "base_uri": "https://localhost:8080/",
     "height": 204
    },
    "id": "45cefa7e",
    "outputId": "bf524a91-aceb-440e-e7a0-3e206ce075fa"
   },
   "outputs": [
    {
     "data": {
      "text/html": [
       "<div>\n",
       "<style scoped>\n",
       "    .dataframe tbody tr th:only-of-type {\n",
       "        vertical-align: middle;\n",
       "    }\n",
       "\n",
       "    .dataframe tbody tr th {\n",
       "        vertical-align: top;\n",
       "    }\n",
       "\n",
       "    .dataframe thead th {\n",
       "        text-align: right;\n",
       "    }\n",
       "</style>\n",
       "<table border=\"1\" class=\"dataframe\">\n",
       "  <thead>\n",
       "    <tr style=\"text-align: right;\">\n",
       "      <th></th>\n",
       "      <th>Body</th>\n",
       "      <th>Label</th>\n",
       "    </tr>\n",
       "  </thead>\n",
       "  <tbody>\n",
       "    <tr>\n",
       "      <th>0</th>\n",
       "      <td>\\nSave up to 70% on Life Insurance.\\nWhy Spend...</td>\n",
       "      <td>1</td>\n",
       "    </tr>\n",
       "    <tr>\n",
       "      <th>1</th>\n",
       "      <td>1) Fight The Risk of Cancer!\\nhttp://www.adcli...</td>\n",
       "      <td>1</td>\n",
       "    </tr>\n",
       "    <tr>\n",
       "      <th>2</th>\n",
       "      <td>1) Fight The Risk of Cancer!\\nhttp://www.adcli...</td>\n",
       "      <td>1</td>\n",
       "    </tr>\n",
       "    <tr>\n",
       "      <th>3</th>\n",
       "      <td>##############################################...</td>\n",
       "      <td>1</td>\n",
       "    </tr>\n",
       "    <tr>\n",
       "      <th>4</th>\n",
       "      <td>I thought you might like these:\\n1) Slim Down ...</td>\n",
       "      <td>1</td>\n",
       "    </tr>\n",
       "  </tbody>\n",
       "</table>\n",
       "</div>"
      ],
      "text/plain": [
       "                                                Body  Label\n",
       "0  \\nSave up to 70% on Life Insurance.\\nWhy Spend...      1\n",
       "1  1) Fight The Risk of Cancer!\\nhttp://www.adcli...      1\n",
       "2  1) Fight The Risk of Cancer!\\nhttp://www.adcli...      1\n",
       "3  ##############################################...      1\n",
       "4  I thought you might like these:\\n1) Slim Down ...      1"
      ]
     },
     "execution_count": 21,
     "metadata": {},
     "output_type": "execute_result"
    }
   ],
   "source": [
    "df1.head()"
   ]
  },
  {
   "cell_type": "code",
   "execution_count": 22,
   "id": "f12cfdc0",
   "metadata": {
    "id": "f12cfdc0"
   },
   "outputs": [],
   "source": [
    "# dataset 2"
   ]
  },
  {
   "cell_type": "code",
   "execution_count": 23,
   "id": "504c4a5a",
   "metadata": {
    "colab": {
     "base_uri": "https://localhost:8080/"
    },
    "id": "504c4a5a",
    "outputId": "51954d71-f114-478d-eb9a-e7ba94a8bf23"
   },
   "outputs": [
    {
     "name": "stdout",
     "output_type": "stream",
     "text": [
      "<class 'pandas.core.frame.DataFrame'>\n",
      "RangeIndex: 5572 entries, 0 to 5571\n",
      "Data columns (total 5 columns):\n",
      " #   Column      Non-Null Count  Dtype \n",
      "---  ------      --------------  ----- \n",
      " 0   v1          5572 non-null   object\n",
      " 1   v2          5572 non-null   object\n",
      " 2   Unnamed: 2  50 non-null     object\n",
      " 3   Unnamed: 3  12 non-null     object\n",
      " 4   Unnamed: 4  6 non-null      object\n",
      "dtypes: object(5)\n",
      "memory usage: 217.8+ KB\n"
     ]
    }
   ],
   "source": [
    " df2.info()"
   ]
  },
  {
   "cell_type": "code",
   "execution_count": 24,
   "id": "d91e4a60",
   "metadata": {
    "colab": {
     "base_uri": "https://localhost:8080/"
    },
    "id": "d91e4a60",
    "outputId": "ece4f7c1-c936-4529-8f1a-04746344029c"
   },
   "outputs": [
    {
     "data": {
      "text/plain": [
       "v1               0\n",
       "v2               0\n",
       "Unnamed: 2    5522\n",
       "Unnamed: 3    5560\n",
       "Unnamed: 4    5566\n",
       "dtype: int64"
      ]
     },
     "execution_count": 24,
     "metadata": {},
     "output_type": "execute_result"
    }
   ],
   "source": [
    "df2.isnull().sum()"
   ]
  },
  {
   "cell_type": "code",
   "execution_count": 25,
   "id": "5daef4af",
   "metadata": {
    "id": "5daef4af"
   },
   "outputs": [],
   "source": [
    "df2.drop(columns=['Unnamed: 2','Unnamed: 3','Unnamed: 4'],inplace=True)"
   ]
  },
  {
   "cell_type": "code",
   "execution_count": 26,
   "id": "b81f241b",
   "metadata": {
    "colab": {
     "base_uri": "https://localhost:8080/",
     "height": 204
    },
    "id": "b81f241b",
    "outputId": "05da92ec-79af-4d36-a5df-bf1ee855aef1",
    "scrolled": false
   },
   "outputs": [
    {
     "data": {
      "text/html": [
       "<div>\n",
       "<style scoped>\n",
       "    .dataframe tbody tr th:only-of-type {\n",
       "        vertical-align: middle;\n",
       "    }\n",
       "\n",
       "    .dataframe tbody tr th {\n",
       "        vertical-align: top;\n",
       "    }\n",
       "\n",
       "    .dataframe thead th {\n",
       "        text-align: right;\n",
       "    }\n",
       "</style>\n",
       "<table border=\"1\" class=\"dataframe\">\n",
       "  <thead>\n",
       "    <tr style=\"text-align: right;\">\n",
       "      <th></th>\n",
       "      <th>Label</th>\n",
       "      <th>Body</th>\n",
       "    </tr>\n",
       "  </thead>\n",
       "  <tbody>\n",
       "    <tr>\n",
       "      <th>3910</th>\n",
       "      <td>ham</td>\n",
       "      <td>How i noe... She's in da car now... Later then...</td>\n",
       "    </tr>\n",
       "    <tr>\n",
       "      <th>1888</th>\n",
       "      <td>ham</td>\n",
       "      <td>No. On the way home. So if not for the long dr...</td>\n",
       "    </tr>\n",
       "    <tr>\n",
       "      <th>3433</th>\n",
       "      <td>ham</td>\n",
       "      <td>Sending you greetings of joy and happiness. Do...</td>\n",
       "    </tr>\n",
       "    <tr>\n",
       "      <th>3427</th>\n",
       "      <td>ham</td>\n",
       "      <td>\\Hi darlin did youPhone me? Im atHome if youwa...</td>\n",
       "    </tr>\n",
       "    <tr>\n",
       "      <th>4917</th>\n",
       "      <td>ham</td>\n",
       "      <td>Sitting in mu waiting for everyone to get out ...</td>\n",
       "    </tr>\n",
       "  </tbody>\n",
       "</table>\n",
       "</div>"
      ],
      "text/plain": [
       "     Label                                               Body\n",
       "3910   ham  How i noe... She's in da car now... Later then...\n",
       "1888   ham  No. On the way home. So if not for the long dr...\n",
       "3433   ham  Sending you greetings of joy and happiness. Do...\n",
       "3427   ham  \\Hi darlin did youPhone me? Im atHome if youwa...\n",
       "4917   ham  Sitting in mu waiting for everyone to get out ..."
      ]
     },
     "execution_count": 26,
     "metadata": {},
     "output_type": "execute_result"
    }
   ],
   "source": [
    "# renaming the cols\n",
    "df2.rename(columns={'v1':'Label','v2':'Body'},inplace=True)\n",
    "df2.sample(5)"
   ]
  },
  {
   "cell_type": "code",
   "execution_count": 27,
   "id": "6ac85281",
   "metadata": {
    "colab": {
     "base_uri": "https://localhost:8080/",
     "height": 204
    },
    "id": "6ac85281",
    "outputId": "29e4c5b0-6699-4538-a5cf-5faf24a83b81"
   },
   "outputs": [
    {
     "data": {
      "text/html": [
       "<div>\n",
       "<style scoped>\n",
       "    .dataframe tbody tr th:only-of-type {\n",
       "        vertical-align: middle;\n",
       "    }\n",
       "\n",
       "    .dataframe tbody tr th {\n",
       "        vertical-align: top;\n",
       "    }\n",
       "\n",
       "    .dataframe thead th {\n",
       "        text-align: right;\n",
       "    }\n",
       "</style>\n",
       "<table border=\"1\" class=\"dataframe\">\n",
       "  <thead>\n",
       "    <tr style=\"text-align: right;\">\n",
       "      <th></th>\n",
       "      <th>Label</th>\n",
       "      <th>Body</th>\n",
       "    </tr>\n",
       "  </thead>\n",
       "  <tbody>\n",
       "    <tr>\n",
       "      <th>0</th>\n",
       "      <td>ham</td>\n",
       "      <td>Go until jurong point, crazy.. Available only ...</td>\n",
       "    </tr>\n",
       "    <tr>\n",
       "      <th>1</th>\n",
       "      <td>ham</td>\n",
       "      <td>Ok lar... Joking wif u oni...</td>\n",
       "    </tr>\n",
       "    <tr>\n",
       "      <th>2</th>\n",
       "      <td>spam</td>\n",
       "      <td>Free entry in 2 a wkly comp to win FA Cup fina...</td>\n",
       "    </tr>\n",
       "    <tr>\n",
       "      <th>3</th>\n",
       "      <td>ham</td>\n",
       "      <td>U dun say so early hor... U c already then say...</td>\n",
       "    </tr>\n",
       "    <tr>\n",
       "      <th>4</th>\n",
       "      <td>ham</td>\n",
       "      <td>Nah I don't think he goes to usf, he lives aro...</td>\n",
       "    </tr>\n",
       "  </tbody>\n",
       "</table>\n",
       "</div>"
      ],
      "text/plain": [
       "  Label                                               Body\n",
       "0   ham  Go until jurong point, crazy.. Available only ...\n",
       "1   ham                      Ok lar... Joking wif u oni...\n",
       "2  spam  Free entry in 2 a wkly comp to win FA Cup fina...\n",
       "3   ham  U dun say so early hor... U c already then say...\n",
       "4   ham  Nah I don't think he goes to usf, he lives aro..."
      ]
     },
     "execution_count": 27,
     "metadata": {},
     "output_type": "execute_result"
    }
   ],
   "source": [
    "df2.head()"
   ]
  },
  {
   "cell_type": "code",
   "execution_count": 28,
   "id": "f4f45872",
   "metadata": {
    "id": "f4f45872"
   },
   "outputs": [],
   "source": [
    "from sklearn.preprocessing import LabelEncoder\n",
    "encoder = LabelEncoder()"
   ]
  },
  {
   "cell_type": "code",
   "execution_count": 29,
   "id": "141bd8e2",
   "metadata": {
    "id": "141bd8e2"
   },
   "outputs": [],
   "source": [
    "df2['Label'] = encoder.fit_transform(df2['Label'])"
   ]
  },
  {
   "cell_type": "code",
   "execution_count": 30,
   "id": "14e0871b",
   "metadata": {
    "colab": {
     "base_uri": "https://localhost:8080/",
     "height": 359
    },
    "id": "14e0871b",
    "outputId": "501d09f4-988a-432f-fe71-f75a235fcbda",
    "scrolled": true
   },
   "outputs": [
    {
     "data": {
      "text/html": [
       "<div>\n",
       "<style scoped>\n",
       "    .dataframe tbody tr th:only-of-type {\n",
       "        vertical-align: middle;\n",
       "    }\n",
       "\n",
       "    .dataframe tbody tr th {\n",
       "        vertical-align: top;\n",
       "    }\n",
       "\n",
       "    .dataframe thead th {\n",
       "        text-align: right;\n",
       "    }\n",
       "</style>\n",
       "<table border=\"1\" class=\"dataframe\">\n",
       "  <thead>\n",
       "    <tr style=\"text-align: right;\">\n",
       "      <th></th>\n",
       "      <th>Label</th>\n",
       "      <th>Body</th>\n",
       "    </tr>\n",
       "  </thead>\n",
       "  <tbody>\n",
       "    <tr>\n",
       "      <th>4112</th>\n",
       "      <td>0</td>\n",
       "      <td>Thought we could go out for dinner. I'll treat...</td>\n",
       "    </tr>\n",
       "    <tr>\n",
       "      <th>1357</th>\n",
       "      <td>0</td>\n",
       "      <td>Good afternoon loverboy ! How goes you day ? A...</td>\n",
       "    </tr>\n",
       "    <tr>\n",
       "      <th>2186</th>\n",
       "      <td>0</td>\n",
       "      <td>So is there anything specific I should be doin...</td>\n",
       "    </tr>\n",
       "    <tr>\n",
       "      <th>1109</th>\n",
       "      <td>0</td>\n",
       "      <td>S s..first time..dhoni rocks...</td>\n",
       "    </tr>\n",
       "    <tr>\n",
       "      <th>4917</th>\n",
       "      <td>0</td>\n",
       "      <td>Sitting in mu waiting for everyone to get out ...</td>\n",
       "    </tr>\n",
       "    <tr>\n",
       "      <th>2788</th>\n",
       "      <td>0</td>\n",
       "      <td>ÌÏ got wat to buy tell us then Ì_ no need to c...</td>\n",
       "    </tr>\n",
       "    <tr>\n",
       "      <th>468</th>\n",
       "      <td>0</td>\n",
       "      <td>Yup, no need. I'll jus wait 4 e rain 2 stop.</td>\n",
       "    </tr>\n",
       "    <tr>\n",
       "      <th>4890</th>\n",
       "      <td>0</td>\n",
       "      <td>Its worse if if uses half way then stops. Its ...</td>\n",
       "    </tr>\n",
       "    <tr>\n",
       "      <th>2390</th>\n",
       "      <td>0</td>\n",
       "      <td>First has she gained more than  &amp;lt;#&amp;gt; kg s...</td>\n",
       "    </tr>\n",
       "    <tr>\n",
       "      <th>1042</th>\n",
       "      <td>0</td>\n",
       "      <td>Easy ah?sen got selected means its good..</td>\n",
       "    </tr>\n",
       "  </tbody>\n",
       "</table>\n",
       "</div>"
      ],
      "text/plain": [
       "      Label                                               Body\n",
       "4112      0  Thought we could go out for dinner. I'll treat...\n",
       "1357      0  Good afternoon loverboy ! How goes you day ? A...\n",
       "2186      0  So is there anything specific I should be doin...\n",
       "1109      0                    S s..first time..dhoni rocks...\n",
       "4917      0  Sitting in mu waiting for everyone to get out ...\n",
       "2788      0  ÌÏ got wat to buy tell us then Ì_ no need to c...\n",
       "468       0       Yup, no need. I'll jus wait 4 e rain 2 stop.\n",
       "4890      0  Its worse if if uses half way then stops. Its ...\n",
       "2390      0  First has she gained more than  &lt;#&gt; kg s...\n",
       "1042      0          Easy ah?sen got selected means its good.."
      ]
     },
     "execution_count": 30,
     "metadata": {},
     "output_type": "execute_result"
    }
   ],
   "source": [
    "df2.sample(10)"
   ]
  },
  {
   "cell_type": "code",
   "execution_count": 31,
   "id": "84dd8c63",
   "metadata": {
    "colab": {
     "base_uri": "https://localhost:8080/"
    },
    "id": "84dd8c63",
    "outputId": "a2e6279d-0886-4443-f98c-661ba99d2290"
   },
   "outputs": [
    {
     "data": {
      "text/plain": [
       "414"
      ]
     },
     "execution_count": 31,
     "metadata": {},
     "output_type": "execute_result"
    }
   ],
   "source": [
    "df2.duplicated().sum()"
   ]
  },
  {
   "cell_type": "code",
   "execution_count": 32,
   "id": "95c977f4",
   "metadata": {
    "id": "95c977f4"
   },
   "outputs": [],
   "source": [
    "df2 = df2.drop_duplicates(keep='first')"
   ]
  },
  {
   "cell_type": "code",
   "execution_count": 33,
   "id": "0602c91c",
   "metadata": {
    "colab": {
     "base_uri": "https://localhost:8080/"
    },
    "id": "0602c91c",
    "outputId": "e9ce1b7e-1074-4fbd-c90c-54b1dafe21f8"
   },
   "outputs": [
    {
     "data": {
      "text/plain": [
       "(5158, 2)"
      ]
     },
     "execution_count": 33,
     "metadata": {},
     "output_type": "execute_result"
    }
   ],
   "source": [
    "df2.shape"
   ]
  },
  {
   "cell_type": "code",
   "execution_count": 34,
   "id": "664889dd",
   "metadata": {
    "id": "664889dd"
   },
   "outputs": [],
   "source": [
    "# merging the datasets"
   ]
  },
  {
   "cell_type": "code",
   "execution_count": 35,
   "id": "efdf83af",
   "metadata": {
    "id": "efdf83af"
   },
   "outputs": [],
   "source": [
    "df = pd.merge(df1, df2, on=['Label', 'Body'], how='outer')"
   ]
  },
  {
   "cell_type": "code",
   "execution_count": 36,
   "id": "355f6273",
   "metadata": {
    "colab": {
     "base_uri": "https://localhost:8080/",
     "height": 204
    },
    "id": "355f6273",
    "outputId": "1966054d-7912-4cdf-bb91-6a6d03da24e1",
    "scrolled": true
   },
   "outputs": [
    {
     "data": {
      "text/html": [
       "<div>\n",
       "<style scoped>\n",
       "    .dataframe tbody tr th:only-of-type {\n",
       "        vertical-align: middle;\n",
       "    }\n",
       "\n",
       "    .dataframe tbody tr th {\n",
       "        vertical-align: top;\n",
       "    }\n",
       "\n",
       "    .dataframe thead th {\n",
       "        text-align: right;\n",
       "    }\n",
       "</style>\n",
       "<table border=\"1\" class=\"dataframe\">\n",
       "  <thead>\n",
       "    <tr style=\"text-align: right;\">\n",
       "      <th></th>\n",
       "      <th>Body</th>\n",
       "      <th>Label</th>\n",
       "    </tr>\n",
       "  </thead>\n",
       "  <tbody>\n",
       "    <tr>\n",
       "      <th>0</th>\n",
       "      <td>\\nSave up to 70% on Life Insurance.\\nWhy Spend...</td>\n",
       "      <td>1</td>\n",
       "    </tr>\n",
       "    <tr>\n",
       "      <th>1</th>\n",
       "      <td>1) Fight The Risk of Cancer!\\nhttp://www.adcli...</td>\n",
       "      <td>1</td>\n",
       "    </tr>\n",
       "    <tr>\n",
       "      <th>2</th>\n",
       "      <td>1) Fight The Risk of Cancer!\\nhttp://www.adcli...</td>\n",
       "      <td>1</td>\n",
       "    </tr>\n",
       "    <tr>\n",
       "      <th>3</th>\n",
       "      <td>1) Fight The Risk of Cancer!\\nhttp://www.adcli...</td>\n",
       "      <td>1</td>\n",
       "    </tr>\n",
       "    <tr>\n",
       "      <th>4</th>\n",
       "      <td>##############################################...</td>\n",
       "      <td>1</td>\n",
       "    </tr>\n",
       "  </tbody>\n",
       "</table>\n",
       "</div>"
      ],
      "text/plain": [
       "                                                Body  Label\n",
       "0  \\nSave up to 70% on Life Insurance.\\nWhy Spend...      1\n",
       "1  1) Fight The Risk of Cancer!\\nhttp://www.adcli...      1\n",
       "2  1) Fight The Risk of Cancer!\\nhttp://www.adcli...      1\n",
       "3  1) Fight The Risk of Cancer!\\nhttp://www.adcli...      1\n",
       "4  ##############################################...      1"
      ]
     },
     "execution_count": 36,
     "metadata": {},
     "output_type": "execute_result"
    }
   ],
   "source": [
    "df.head()"
   ]
  },
  {
   "cell_type": "code",
   "execution_count": 37,
   "id": "b4e5d482",
   "metadata": {
    "colab": {
     "base_uri": "https://localhost:8080/"
    },
    "id": "b4e5d482",
    "outputId": "0bd8a931-6460-4a4f-cf91-a69079076a97"
   },
   "outputs": [
    {
     "data": {
      "text/plain": [
       "(11203, 2)"
      ]
     },
     "execution_count": 37,
     "metadata": {},
     "output_type": "execute_result"
    }
   ],
   "source": [
    "df.shape"
   ]
  },
  {
   "cell_type": "code",
   "execution_count": 38,
   "id": "db42a0b7",
   "metadata": {
    "colab": {
     "base_uri": "https://localhost:8080/"
    },
    "id": "db42a0b7",
    "outputId": "7c14391c-31af-46f0-ae08-277e1085af28"
   },
   "outputs": [
    {
     "data": {
      "text/plain": [
       "752"
      ]
     },
     "execution_count": 38,
     "metadata": {},
     "output_type": "execute_result"
    }
   ],
   "source": [
    "df.duplicated().sum()"
   ]
  },
  {
   "cell_type": "code",
   "execution_count": 39,
   "id": "55331e4a",
   "metadata": {
    "id": "55331e4a"
   },
   "outputs": [],
   "source": [
    "df = df.drop_duplicates(keep='first')"
   ]
  },
  {
   "cell_type": "code",
   "execution_count": 40,
   "id": "de9f941e",
   "metadata": {
    "colab": {
     "base_uri": "https://localhost:8080/"
    },
    "id": "de9f941e",
    "outputId": "e2367258-7c10-4339-a110-fffd42f23aec"
   },
   "outputs": [
    {
     "data": {
      "text/plain": [
       "(10451, 2)"
      ]
     },
     "execution_count": 40,
     "metadata": {},
     "output_type": "execute_result"
    }
   ],
   "source": [
    "df.shape"
   ]
  },
  {
   "cell_type": "code",
   "execution_count": 41,
   "id": "a73257c9",
   "metadata": {
    "id": "a73257c9"
   },
   "outputs": [],
   "source": [
    "# export dataset"
   ]
  },
  {
   "cell_type": "code",
   "execution_count": 42,
   "id": "bPMjMBlGvWL9",
   "metadata": {
    "colab": {
     "base_uri": "https://localhost:8080/"
    },
    "id": "bPMjMBlGvWL9",
    "outputId": "968b0ce8-5ef4-4a4e-d3a5-70ef3bada69c"
   },
   "outputs": [
    {
     "name": "stdout",
     "output_type": "stream",
     "text": [
      "Merged dataset saved as spamemailcompletedataset.csv\n"
     ]
    }
   ],
   "source": [
    "df.to_csv('spamemailcompletedataset.csv', index=False)\n",
    "\n",
    "print(\"Merged dataset saved as spamemailcompletedataset.csv\")"
   ]
  },
  {
   "cell_type": "code",
   "execution_count": 43,
   "id": "O3_Zlv3YHm2q",
   "metadata": {
    "id": "O3_Zlv3YHm2q"
   },
   "outputs": [],
   "source": [
    "df = pd.read_csv(\"spamemailcompletedataset.csv\", encoding='utf-8')"
   ]
  },
  {
   "cell_type": "markdown",
   "id": "9bea814d",
   "metadata": {
    "id": "9bea814d"
   },
   "source": [
    "## 2. Exploratory Data Analysis"
   ]
  },
  {
   "cell_type": "code",
   "execution_count": 44,
   "id": "a8de452e",
   "metadata": {
    "colab": {
     "base_uri": "https://localhost:8080/",
     "height": 204
    },
    "id": "a8de452e",
    "outputId": "322400a1-815e-4bdb-b46f-762908725b5b"
   },
   "outputs": [
    {
     "data": {
      "text/html": [
       "<div>\n",
       "<style scoped>\n",
       "    .dataframe tbody tr th:only-of-type {\n",
       "        vertical-align: middle;\n",
       "    }\n",
       "\n",
       "    .dataframe tbody tr th {\n",
       "        vertical-align: top;\n",
       "    }\n",
       "\n",
       "    .dataframe thead th {\n",
       "        text-align: right;\n",
       "    }\n",
       "</style>\n",
       "<table border=\"1\" class=\"dataframe\">\n",
       "  <thead>\n",
       "    <tr style=\"text-align: right;\">\n",
       "      <th></th>\n",
       "      <th>Body</th>\n",
       "      <th>Label</th>\n",
       "    </tr>\n",
       "  </thead>\n",
       "  <tbody>\n",
       "    <tr>\n",
       "      <th>0</th>\n",
       "      <td>\\nSave up to 70% on Life Insurance.\\nWhy Spend...</td>\n",
       "      <td>1</td>\n",
       "    </tr>\n",
       "    <tr>\n",
       "      <th>1</th>\n",
       "      <td>1) Fight The Risk of Cancer!\\nhttp://www.adcli...</td>\n",
       "      <td>1</td>\n",
       "    </tr>\n",
       "    <tr>\n",
       "      <th>2</th>\n",
       "      <td>1) Fight The Risk of Cancer!\\nhttp://www.adcli...</td>\n",
       "      <td>1</td>\n",
       "    </tr>\n",
       "    <tr>\n",
       "      <th>3</th>\n",
       "      <td>##############################################...</td>\n",
       "      <td>1</td>\n",
       "    </tr>\n",
       "    <tr>\n",
       "      <th>4</th>\n",
       "      <td>I thought you might like these:\\n1) Slim Down ...</td>\n",
       "      <td>1</td>\n",
       "    </tr>\n",
       "  </tbody>\n",
       "</table>\n",
       "</div>"
      ],
      "text/plain": [
       "                                                Body  Label\n",
       "0  \\nSave up to 70% on Life Insurance.\\nWhy Spend...      1\n",
       "1  1) Fight The Risk of Cancer!\\nhttp://www.adcli...      1\n",
       "2  1) Fight The Risk of Cancer!\\nhttp://www.adcli...      1\n",
       "3  ##############################################...      1\n",
       "4  I thought you might like these:\\n1) Slim Down ...      1"
      ]
     },
     "execution_count": 44,
     "metadata": {},
     "output_type": "execute_result"
    }
   ],
   "source": [
    "df.head()"
   ]
  },
  {
   "cell_type": "code",
   "execution_count": 45,
   "id": "14ffcf7d",
   "metadata": {
    "colab": {
     "base_uri": "https://localhost:8080/"
    },
    "id": "14ffcf7d",
    "outputId": "3b8f608e-1af2-49d0-a9a3-d38f2655809e"
   },
   "outputs": [
    {
     "data": {
      "text/plain": [
       "Label\n",
       "0    8431\n",
       "1    2020\n",
       "Name: count, dtype: int64"
      ]
     },
     "execution_count": 45,
     "metadata": {},
     "output_type": "execute_result"
    }
   ],
   "source": [
    "df[\"Label\"].value_counts()"
   ]
  },
  {
   "cell_type": "code",
   "execution_count": 46,
   "id": "8f559d2b",
   "metadata": {
    "colab": {
     "base_uri": "https://localhost:8080/",
     "height": 406
    },
    "id": "8f559d2b",
    "outputId": "e4a7a550-84c0-4cf2-f9dc-50059a187492"
   },
   "outputs": [
    {
     "data": {
      "image/png": "[encoded data removed]",
      "text/plain": [
       "<Figure size 640x480 with 1 Axes>"
      ]
     },
     "metadata": {},
     "output_type": "display_data"
    }
   ],
   "source": [
    "plt.pie(df['Label'].value_counts(), labels=['Ham', 'Spam'], autopct=\"%0.2f\")\n",
    "plt.show()"
   ]
  },
  {
   "cell_type": "code",
   "execution_count": 47,
   "id": "7e14ab91",
   "metadata": {
    "colab": {
     "base_uri": "https://localhost:8080/",
     "height": 204
    },
    "id": "7e14ab91",
    "outputId": "267fc4b7-e604-4bdf-bba7-3d213c1d9485"
   },
   "outputs": [
    {
     "data": {
      "text/html": [
       "<div>\n",
       "<style scoped>\n",
       "    .dataframe tbody tr th:only-of-type {\n",
       "        vertical-align: middle;\n",
       "    }\n",
       "\n",
       "    .dataframe tbody tr th {\n",
       "        vertical-align: top;\n",
       "    }\n",
       "\n",
       "    .dataframe thead th {\n",
       "        text-align: right;\n",
       "    }\n",
       "</style>\n",
       "<table border=\"1\" class=\"dataframe\">\n",
       "  <thead>\n",
       "    <tr style=\"text-align: right;\">\n",
       "      <th></th>\n",
       "      <th>Body</th>\n",
       "      <th>Label</th>\n",
       "      <th>Char_Count</th>\n",
       "    </tr>\n",
       "  </thead>\n",
       "  <tbody>\n",
       "    <tr>\n",
       "      <th>0</th>\n",
       "      <td>\\nSave up to 70% on Life Insurance.\\nWhy Spend...</td>\n",
       "      <td>1</td>\n",
       "      <td>1111</td>\n",
       "    </tr>\n",
       "    <tr>\n",
       "      <th>1</th>\n",
       "      <td>1) Fight The Risk of Cancer!\\nhttp://www.adcli...</td>\n",
       "      <td>1</td>\n",
       "      <td>753</td>\n",
       "    </tr>\n",
       "    <tr>\n",
       "      <th>2</th>\n",
       "      <td>1) Fight The Risk of Cancer!\\nhttp://www.adcli...</td>\n",
       "      <td>1</td>\n",
       "      <td>610</td>\n",
       "    </tr>\n",
       "    <tr>\n",
       "      <th>3</th>\n",
       "      <td>##############################################...</td>\n",
       "      <td>1</td>\n",
       "      <td>2863</td>\n",
       "    </tr>\n",
       "    <tr>\n",
       "      <th>4</th>\n",
       "      <td>I thought you might like these:\\n1) Slim Down ...</td>\n",
       "      <td>1</td>\n",
       "      <td>641</td>\n",
       "    </tr>\n",
       "  </tbody>\n",
       "</table>\n",
       "</div>"
      ],
      "text/plain": [
       "                                                Body  Label  Char_Count\n",
       "0  \\nSave up to 70% on Life Insurance.\\nWhy Spend...      1        1111\n",
       "1  1) Fight The Risk of Cancer!\\nhttp://www.adcli...      1         753\n",
       "2  1) Fight The Risk of Cancer!\\nhttp://www.adcli...      1         610\n",
       "3  ##############################################...      1        2863\n",
       "4  I thought you might like these:\\n1) Slim Down ...      1         641"
      ]
     },
     "execution_count": 47,
     "metadata": {},
     "output_type": "execute_result"
    }
   ],
   "source": [
    "# Applying the len function only to non-null values in the 'Body' column\n",
    "df['Char_Count'] = df['Body'].apply(lambda x: len(str(x)))\n",
    "\n",
    "df.head()"
   ]
  },
  {
   "cell_type": "code",
   "execution_count": 48,
   "id": "dbb36a1c",
   "metadata": {
    "colab": {
     "base_uri": "https://localhost:8080/",
     "height": 204
    },
    "id": "dbb36a1c",
    "outputId": "10380b18-0a1b-4585-e655-a8320fd2e641"
   },
   "outputs": [
    {
     "data": {
      "text/html": [
       "<div>\n",
       "<style scoped>\n",
       "    .dataframe tbody tr th:only-of-type {\n",
       "        vertical-align: middle;\n",
       "    }\n",
       "\n",
       "    .dataframe tbody tr th {\n",
       "        vertical-align: top;\n",
       "    }\n",
       "\n",
       "    .dataframe thead th {\n",
       "        text-align: right;\n",
       "    }\n",
       "</style>\n",
       "<table border=\"1\" class=\"dataframe\">\n",
       "  <thead>\n",
       "    <tr style=\"text-align: right;\">\n",
       "      <th></th>\n",
       "      <th>Body</th>\n",
       "      <th>Label</th>\n",
       "      <th>Char_Count</th>\n",
       "      <th>Word_Count</th>\n",
       "    </tr>\n",
       "  </thead>\n",
       "  <tbody>\n",
       "    <tr>\n",
       "      <th>0</th>\n",
       "      <td>\\nSave up to 70% on Life Insurance.\\nWhy Spend...</td>\n",
       "      <td>1</td>\n",
       "      <td>1111</td>\n",
       "      <td>191</td>\n",
       "    </tr>\n",
       "    <tr>\n",
       "      <th>1</th>\n",
       "      <td>1) Fight The Risk of Cancer!\\nhttp://www.adcli...</td>\n",
       "      <td>1</td>\n",
       "      <td>753</td>\n",
       "      <td>139</td>\n",
       "    </tr>\n",
       "    <tr>\n",
       "      <th>2</th>\n",
       "      <td>1) Fight The Risk of Cancer!\\nhttp://www.adcli...</td>\n",
       "      <td>1</td>\n",
       "      <td>610</td>\n",
       "      <td>113</td>\n",
       "    </tr>\n",
       "    <tr>\n",
       "      <th>3</th>\n",
       "      <td>##############################################...</td>\n",
       "      <td>1</td>\n",
       "      <td>2863</td>\n",
       "      <td>690</td>\n",
       "    </tr>\n",
       "    <tr>\n",
       "      <th>4</th>\n",
       "      <td>I thought you might like these:\\n1) Slim Down ...</td>\n",
       "      <td>1</td>\n",
       "      <td>641</td>\n",
       "      <td>108</td>\n",
       "    </tr>\n",
       "  </tbody>\n",
       "</table>\n",
       "</div>"
      ],
      "text/plain": [
       "                                                Body  Label  Char_Count  \\\n",
       "0  \\nSave up to 70% on Life Insurance.\\nWhy Spend...      1        1111   \n",
       "1  1) Fight The Risk of Cancer!\\nhttp://www.adcli...      1         753   \n",
       "2  1) Fight The Risk of Cancer!\\nhttp://www.adcli...      1         610   \n",
       "3  ##############################################...      1        2863   \n",
       "4  I thought you might like these:\\n1) Slim Down ...      1         641   \n",
       "\n",
       "   Word_Count  \n",
       "0         191  \n",
       "1         139  \n",
       "2         113  \n",
       "3         690  \n",
       "4         108  "
      ]
     },
     "execution_count": 48,
     "metadata": {},
     "output_type": "execute_result"
    }
   ],
   "source": [
    "df['Word_Count'] = df['Body'].apply(lambda x: len(nltk.word_tokenize(x)))\n",
    "df.head()"
   ]
  },
  {
   "cell_type": "code",
   "execution_count": 49,
   "id": "e300d5ae",
   "metadata": {
    "colab": {
     "base_uri": "https://localhost:8080/",
     "height": 359
    },
    "id": "e300d5ae",
    "outputId": "3e05e613-7fad-410e-faa1-a93904726635",
    "scrolled": true
   },
   "outputs": [
    {
     "data": {
      "text/html": [
       "<div>\n",
       "<style scoped>\n",
       "    .dataframe tbody tr th:only-of-type {\n",
       "        vertical-align: middle;\n",
       "    }\n",
       "\n",
       "    .dataframe tbody tr th {\n",
       "        vertical-align: top;\n",
       "    }\n",
       "\n",
       "    .dataframe thead th {\n",
       "        text-align: right;\n",
       "    }\n",
       "</style>\n",
       "<table border=\"1\" class=\"dataframe\">\n",
       "  <thead>\n",
       "    <tr style=\"text-align: right;\">\n",
       "      <th></th>\n",
       "      <th>Body</th>\n",
       "      <th>Label</th>\n",
       "      <th>Char_Count</th>\n",
       "      <th>Word_Count</th>\n",
       "      <th>Sentence_Count</th>\n",
       "    </tr>\n",
       "  </thead>\n",
       "  <tbody>\n",
       "    <tr>\n",
       "      <th>4157</th>\n",
       "      <td>Takers galore possibly (me inclusive). Especia...</td>\n",
       "      <td>0</td>\n",
       "      <td>652</td>\n",
       "      <td>154</td>\n",
       "      <td>7</td>\n",
       "    </tr>\n",
       "    <tr>\n",
       "      <th>2686</th>\n",
       "      <td>On Wednesday 28 August 2002 04:38 pm, Daniel Q...</td>\n",
       "      <td>0</td>\n",
       "      <td>1889</td>\n",
       "      <td>374</td>\n",
       "      <td>11</td>\n",
       "    </tr>\n",
       "    <tr>\n",
       "      <th>5602</th>\n",
       "      <td>Hi the way I was with u 2day, is the normal wa...</td>\n",
       "      <td>0</td>\n",
       "      <td>142</td>\n",
       "      <td>41</td>\n",
       "      <td>3</td>\n",
       "    </tr>\n",
       "    <tr>\n",
       "      <th>8122</th>\n",
       "      <td>Tonight? Yeah, I'd be down for that</td>\n",
       "      <td>0</td>\n",
       "      <td>35</td>\n",
       "      <td>10</td>\n",
       "      <td>2</td>\n",
       "    </tr>\n",
       "    <tr>\n",
       "      <th>3203</th>\n",
       "      <td>URL: http://scriptingnews.userland.com/backiss...</td>\n",
       "      <td>0</td>\n",
       "      <td>237</td>\n",
       "      <td>45</td>\n",
       "      <td>2</td>\n",
       "    </tr>\n",
       "    <tr>\n",
       "      <th>2685</th>\n",
       "      <td>Now that I have spam assassin and mailscanner ...</td>\n",
       "      <td>0</td>\n",
       "      <td>613</td>\n",
       "      <td>107</td>\n",
       "      <td>4</td>\n",
       "    </tr>\n",
       "    <tr>\n",
       "      <th>4047</th>\n",
       "      <td>-----BEGIN PGP SIGNED MESSAGE-----\\nHash: SHA1...</td>\n",
       "      <td>0</td>\n",
       "      <td>1172</td>\n",
       "      <td>223</td>\n",
       "      <td>9</td>\n",
       "    </tr>\n",
       "    <tr>\n",
       "      <th>9780</th>\n",
       "      <td>Anything is valuable in only 2 situations: Fir...</td>\n",
       "      <td>0</td>\n",
       "      <td>98</td>\n",
       "      <td>18</td>\n",
       "      <td>1</td>\n",
       "    </tr>\n",
       "    <tr>\n",
       "      <th>9071</th>\n",
       "      <td>Lol its ok I didn't remember til last nite</td>\n",
       "      <td>0</td>\n",
       "      <td>42</td>\n",
       "      <td>10</td>\n",
       "      <td>1</td>\n",
       "    </tr>\n",
       "    <tr>\n",
       "      <th>10124</th>\n",
       "      <td>She.s fine. I have had difficulties with her p...</td>\n",
       "      <td>0</td>\n",
       "      <td>116</td>\n",
       "      <td>25</td>\n",
       "      <td>4</td>\n",
       "    </tr>\n",
       "  </tbody>\n",
       "</table>\n",
       "</div>"
      ],
      "text/plain": [
       "                                                    Body  Label  Char_Count  \\\n",
       "4157   Takers galore possibly (me inclusive). Especia...      0         652   \n",
       "2686   On Wednesday 28 August 2002 04:38 pm, Daniel Q...      0        1889   \n",
       "5602   Hi the way I was with u 2day, is the normal wa...      0         142   \n",
       "8122                 Tonight? Yeah, I'd be down for that      0          35   \n",
       "3203   URL: http://scriptingnews.userland.com/backiss...      0         237   \n",
       "2685   Now that I have spam assassin and mailscanner ...      0         613   \n",
       "4047   -----BEGIN PGP SIGNED MESSAGE-----\\nHash: SHA1...      0        1172   \n",
       "9780   Anything is valuable in only 2 situations: Fir...      0          98   \n",
       "9071          Lol its ok I didn't remember til last nite      0          42   \n",
       "10124  She.s fine. I have had difficulties with her p...      0         116   \n",
       "\n",
       "       Word_Count  Sentence_Count  \n",
       "4157          154               7  \n",
       "2686          374              11  \n",
       "5602           41               3  \n",
       "8122           10               2  \n",
       "3203           45               2  \n",
       "2685          107               4  \n",
       "4047          223               9  \n",
       "9780           18               1  \n",
       "9071           10               1  \n",
       "10124          25               4  "
      ]
     },
     "execution_count": 49,
     "metadata": {},
     "output_type": "execute_result"
    }
   ],
   "source": [
    "df['Sentence_Count'] = df['Body'].apply(lambda x: len(nltk.sent_tokenize(x)))\n",
    "df.sample(10)"
   ]
  },
  {
   "cell_type": "code",
   "execution_count": 50,
   "id": "03d22be2",
   "metadata": {
    "colab": {
     "base_uri": "https://localhost:8080/",
     "height": 297
    },
    "id": "03d22be2",
    "outputId": "79f5fce1-2d66-4565-a2c1-38d590b22666"
   },
   "outputs": [
    {
     "data": {
      "text/html": [
       "<div>\n",
       "<style scoped>\n",
       "    .dataframe tbody tr th:only-of-type {\n",
       "        vertical-align: middle;\n",
       "    }\n",
       "\n",
       "    .dataframe tbody tr th {\n",
       "        vertical-align: top;\n",
       "    }\n",
       "\n",
       "    .dataframe thead th {\n",
       "        text-align: right;\n",
       "    }\n",
       "</style>\n",
       "<table border=\"1\" class=\"dataframe\">\n",
       "  <thead>\n",
       "    <tr style=\"text-align: right;\">\n",
       "      <th></th>\n",
       "      <th>Char_Count</th>\n",
       "      <th>Word_Count</th>\n",
       "      <th>Sentence_Count</th>\n",
       "    </tr>\n",
       "  </thead>\n",
       "  <tbody>\n",
       "    <tr>\n",
       "      <th>count</th>\n",
       "      <td>10451.000000</td>\n",
       "      <td>10451.000000</td>\n",
       "      <td>10451.000000</td>\n",
       "    </tr>\n",
       "    <tr>\n",
       "      <th>mean</th>\n",
       "      <td>1025.336236</td>\n",
       "      <td>193.151086</td>\n",
       "      <td>7.456703</td>\n",
       "    </tr>\n",
       "    <tr>\n",
       "      <th>std</th>\n",
       "      <td>3836.664917</td>\n",
       "      <td>597.737250</td>\n",
       "      <td>20.694056</td>\n",
       "    </tr>\n",
       "    <tr>\n",
       "      <th>min</th>\n",
       "      <td>1.000000</td>\n",
       "      <td>0.000000</td>\n",
       "      <td>0.000000</td>\n",
       "    </tr>\n",
       "    <tr>\n",
       "      <th>25%</th>\n",
       "      <td>61.000000</td>\n",
       "      <td>14.000000</td>\n",
       "      <td>1.000000</td>\n",
       "    </tr>\n",
       "    <tr>\n",
       "      <th>50%</th>\n",
       "      <td>175.000000</td>\n",
       "      <td>37.000000</td>\n",
       "      <td>3.000000</td>\n",
       "    </tr>\n",
       "    <tr>\n",
       "      <th>75%</th>\n",
       "      <td>1017.000000</td>\n",
       "      <td>194.000000</td>\n",
       "      <td>7.000000</td>\n",
       "    </tr>\n",
       "    <tr>\n",
       "      <th>max</th>\n",
       "      <td>194978.000000</td>\n",
       "      <td>18564.000000</td>\n",
       "      <td>808.000000</td>\n",
       "    </tr>\n",
       "  </tbody>\n",
       "</table>\n",
       "</div>"
      ],
      "text/plain": [
       "          Char_Count    Word_Count  Sentence_Count\n",
       "count   10451.000000  10451.000000    10451.000000\n",
       "mean     1025.336236    193.151086        7.456703\n",
       "std      3836.664917    597.737250       20.694056\n",
       "min         1.000000      0.000000        0.000000\n",
       "25%        61.000000     14.000000        1.000000\n",
       "50%       175.000000     37.000000        3.000000\n",
       "75%      1017.000000    194.000000        7.000000\n",
       "max    194978.000000  18564.000000      808.000000"
      ]
     },
     "execution_count": 50,
     "metadata": {},
     "output_type": "execute_result"
    }
   ],
   "source": [
    "df[['Char_Count', 'Word_Count', 'Sentence_Count']].describe()"
   ]
  },
  {
   "cell_type": "code",
   "execution_count": 51,
   "id": "9ed0aa21",
   "metadata": {
    "colab": {
     "base_uri": "https://localhost:8080/",
     "height": 297
    },
    "id": "9ed0aa21",
    "outputId": "42b7c1f8-eed5-469f-9ffd-fbfb209a4688"
   },
   "outputs": [
    {
     "data": {
      "text/html": [
       "<div>\n",
       "<style scoped>\n",
       "    .dataframe tbody tr th:only-of-type {\n",
       "        vertical-align: middle;\n",
       "    }\n",
       "\n",
       "    .dataframe tbody tr th {\n",
       "        vertical-align: top;\n",
       "    }\n",
       "\n",
       "    .dataframe thead th {\n",
       "        text-align: right;\n",
       "    }\n",
       "</style>\n",
       "<table border=\"1\" class=\"dataframe\">\n",
       "  <thead>\n",
       "    <tr style=\"text-align: right;\">\n",
       "      <th></th>\n",
       "      <th>Char_Count</th>\n",
       "      <th>Word_Count</th>\n",
       "      <th>Sentence_Count</th>\n",
       "    </tr>\n",
       "  </thead>\n",
       "  <tbody>\n",
       "    <tr>\n",
       "      <th>count</th>\n",
       "      <td>8431.000000</td>\n",
       "      <td>8431.000000</td>\n",
       "      <td>8431.000000</td>\n",
       "    </tr>\n",
       "    <tr>\n",
       "      <th>mean</th>\n",
       "      <td>870.170205</td>\n",
       "      <td>167.282766</td>\n",
       "      <td>6.294983</td>\n",
       "    </tr>\n",
       "    <tr>\n",
       "      <th>std</th>\n",
       "      <td>3530.808360</td>\n",
       "      <td>552.987072</td>\n",
       "      <td>18.419597</td>\n",
       "    </tr>\n",
       "    <tr>\n",
       "      <th>min</th>\n",
       "      <td>2.000000</td>\n",
       "      <td>1.000000</td>\n",
       "      <td>1.000000</td>\n",
       "    </tr>\n",
       "    <tr>\n",
       "      <th>25%</th>\n",
       "      <td>49.000000</td>\n",
       "      <td>12.000000</td>\n",
       "      <td>1.000000</td>\n",
       "    </tr>\n",
       "    <tr>\n",
       "      <th>50%</th>\n",
       "      <td>148.000000</td>\n",
       "      <td>31.000000</td>\n",
       "      <td>2.000000</td>\n",
       "    </tr>\n",
       "    <tr>\n",
       "      <th>75%</th>\n",
       "      <td>877.000000</td>\n",
       "      <td>173.500000</td>\n",
       "      <td>6.000000</td>\n",
       "    </tr>\n",
       "    <tr>\n",
       "      <th>max</th>\n",
       "      <td>194978.000000</td>\n",
       "      <td>18564.000000</td>\n",
       "      <td>808.000000</td>\n",
       "    </tr>\n",
       "  </tbody>\n",
       "</table>\n",
       "</div>"
      ],
      "text/plain": [
       "          Char_Count    Word_Count  Sentence_Count\n",
       "count    8431.000000   8431.000000     8431.000000\n",
       "mean      870.170205    167.282766        6.294983\n",
       "std      3530.808360    552.987072       18.419597\n",
       "min         2.000000      1.000000        1.000000\n",
       "25%        49.000000     12.000000        1.000000\n",
       "50%       148.000000     31.000000        2.000000\n",
       "75%       877.000000    173.500000        6.000000\n",
       "max    194978.000000  18564.000000      808.000000"
      ]
     },
     "execution_count": 51,
     "metadata": {},
     "output_type": "execute_result"
    }
   ],
   "source": [
    "df[df['Label'] == 0][['Char_Count', 'Word_Count', 'Sentence_Count']].describe()"
   ]
  },
  {
   "cell_type": "code",
   "execution_count": 52,
   "id": "ea2e269e",
   "metadata": {
    "colab": {
     "base_uri": "https://localhost:8080/",
     "height": 297
    },
    "id": "ea2e269e",
    "outputId": "f98d4082-30d4-427a-f229-6abf1b1a704e"
   },
   "outputs": [
    {
     "data": {
      "text/html": [
       "<div>\n",
       "<style scoped>\n",
       "    .dataframe tbody tr th:only-of-type {\n",
       "        vertical-align: middle;\n",
       "    }\n",
       "\n",
       "    .dataframe tbody tr th {\n",
       "        vertical-align: top;\n",
       "    }\n",
       "\n",
       "    .dataframe thead th {\n",
       "        text-align: right;\n",
       "    }\n",
       "</style>\n",
       "<table border=\"1\" class=\"dataframe\">\n",
       "  <thead>\n",
       "    <tr style=\"text-align: right;\">\n",
       "      <th></th>\n",
       "      <th>Char_Count</th>\n",
       "      <th>Word_Count</th>\n",
       "      <th>Sentence_Count</th>\n",
       "    </tr>\n",
       "  </thead>\n",
       "  <tbody>\n",
       "    <tr>\n",
       "      <th>count</th>\n",
       "      <td>2020.000000</td>\n",
       "      <td>2020.000000</td>\n",
       "      <td>2020.000000</td>\n",
       "    </tr>\n",
       "    <tr>\n",
       "      <th>mean</th>\n",
       "      <td>1672.962376</td>\n",
       "      <td>301.119307</td>\n",
       "      <td>12.305446</td>\n",
       "    </tr>\n",
       "    <tr>\n",
       "      <th>std</th>\n",
       "      <td>4859.606811</td>\n",
       "      <td>747.006606</td>\n",
       "      <td>27.762316</td>\n",
       "    </tr>\n",
       "    <tr>\n",
       "      <th>min</th>\n",
       "      <td>1.000000</td>\n",
       "      <td>0.000000</td>\n",
       "      <td>0.000000</td>\n",
       "    </tr>\n",
       "    <tr>\n",
       "      <th>25%</th>\n",
       "      <td>156.000000</td>\n",
       "      <td>32.000000</td>\n",
       "      <td>3.000000</td>\n",
       "    </tr>\n",
       "    <tr>\n",
       "      <th>50%</th>\n",
       "      <td>705.000000</td>\n",
       "      <td>123.500000</td>\n",
       "      <td>6.000000</td>\n",
       "    </tr>\n",
       "    <tr>\n",
       "      <th>75%</th>\n",
       "      <td>1507.500000</td>\n",
       "      <td>268.000000</td>\n",
       "      <td>11.000000</td>\n",
       "    </tr>\n",
       "    <tr>\n",
       "      <th>max</th>\n",
       "      <td>129635.000000</td>\n",
       "      <td>13288.000000</td>\n",
       "      <td>406.000000</td>\n",
       "    </tr>\n",
       "  </tbody>\n",
       "</table>\n",
       "</div>"
      ],
      "text/plain": [
       "          Char_Count    Word_Count  Sentence_Count\n",
       "count    2020.000000   2020.000000     2020.000000\n",
       "mean     1672.962376    301.119307       12.305446\n",
       "std      4859.606811    747.006606       27.762316\n",
       "min         1.000000      0.000000        0.000000\n",
       "25%       156.000000     32.000000        3.000000\n",
       "50%       705.000000    123.500000        6.000000\n",
       "75%      1507.500000    268.000000       11.000000\n",
       "max    129635.000000  13288.000000      406.000000"
      ]
     },
     "execution_count": 52,
     "metadata": {},
     "output_type": "execute_result"
    }
   ],
   "source": [
    "df[df['Label'] == 1][['Char_Count', 'Word_Count', 'Sentence_Count']].describe()"
   ]
  },
  {
   "cell_type": "code",
   "execution_count": 53,
   "id": "12c65270",
   "metadata": {
    "colab": {
     "base_uri": "https://localhost:8080/",
     "height": 467
    },
    "id": "12c65270",
    "outputId": "c3b15c0f-1b6f-4475-c481-a1684aefe460"
   },
   "outputs": [
    {
     "data": {
      "text/plain": [
       "<Axes: xlabel='Char_Count', ylabel='Count'>"
      ]
     },
     "execution_count": 53,
     "metadata": {},
     "output_type": "execute_result"
    },
    {
     "data": {
      "image/png": "[encoded data removed]",
      "text/plain": [
       "<Figure size 640x480 with 1 Axes>"
      ]
     },
     "metadata": {},
     "output_type": "display_data"
    }
   ],
   "source": [
    "sns.histplot(df[df['Label'] == 0]['Char_Count'])\n",
    "sns.histplot(df[df['Label'] == 1]['Char_Count'], color='red')"
   ]
  },
  {
   "cell_type": "code",
   "execution_count": 54,
   "id": "dbf52975",
   "metadata": {
    "colab": {
     "base_uri": "https://localhost:8080/",
     "height": 467
    },
    "id": "dbf52975",
    "outputId": "34d6df4f-be1f-45cb-8531-6bd7bc4f5611"
   },
   "outputs": [
    {
     "data": {
      "text/plain": [
       "<Axes: xlabel='Word_Count', ylabel='Count'>"
      ]
     },
     "execution_count": 54,
     "metadata": {},
     "output_type": "execute_result"
    },
    {
     "data": {
      "image/png": "[encoded data removed]",
      "text/plain": [
       "<Figure size 640x480 with 1 Axes>"
      ]
     },
     "metadata": {},
     "output_type": "display_data"
    }
   ],
   "source": [
    "sns.histplot(df[df['Label'] == 0]['Word_Count'])\n",
    "sns.histplot(df[df['Label'] == 1]['Word_Count'], color='red')"
   ]
  },
  {
   "cell_type": "code",
   "execution_count": 55,
   "id": "31d29620",
   "metadata": {
    "colab": {
     "base_uri": "https://localhost:8080/",
     "height": 774
    },
    "id": "31d29620",
    "outputId": "c485ea73-f341-49e5-97ff-9083bce5e69f"
   },
   "outputs": [
    {
     "name": "stderr",
     "output_type": "stream",
     "text": [
      "/opt/homebrew/anaconda3/lib/python3.11/site-packages/seaborn/axisgrid.py:118: UserWarning: The figure layout has changed to tight\n",
      "  self._figure.tight_layout(*args, **kwargs)\n"
     ]
    },
    {
     "data": {
      "text/plain": [
       "<seaborn.axisgrid.PairGrid at 0x155768c90>"
      ]
     },
     "execution_count": 55,
     "metadata": {},
     "output_type": "execute_result"
    },
    {
     "data": {
      "image/png": "[encoded data removed]",
      "text/plain": [
       "<Figure size 808.875x750 with 12 Axes>"
      ]
     },
     "metadata": {},
     "output_type": "display_data"
    }
   ],
   "source": [
    "sns.pairplot(df,hue='Label')"
   ]
  },
  {
   "cell_type": "code",
   "execution_count": 56,
   "id": "d5cb372d",
   "metadata": {
    "colab": {
     "base_uri": "https://localhost:8080/",
     "height": 227
    },
    "id": "d5cb372d",
    "outputId": "31198694-7aee-440e-c40e-5777a358216b"
   },
   "outputs": [],
   "source": [
    "#df.corr()"
   ]
  },
  {
   "cell_type": "code",
   "execution_count": 57,
   "id": "0efbb045",
   "metadata": {
    "colab": {
     "base_uri": "https://localhost:8080/",
     "height": 506
    },
    "id": "0efbb045",
    "outputId": "40c308ed-00b3-4ef7-f26e-a85ef1504ef0"
   },
   "outputs": [],
   "source": [
    "#sns.heatmap(df.corr(),annot=True)"
   ]
  },
  {
   "cell_type": "markdown",
   "id": "c1f0f9cb",
   "metadata": {
    "id": "c1f0f9cb"
   },
   "source": [
    "## 3. Data Preprocessing"
   ]
  },
  {
   "cell_type": "code",
   "execution_count": 58,
   "id": "ba9dbbf7",
   "metadata": {
    "id": "ba9dbbf7"
   },
   "outputs": [],
   "source": [
    "def transform_text(text):\n",
    "    text = text.lower()\n",
    "    text = nltk.word_tokenize(text)\n",
    "\n",
    "    word_list=[]\n",
    "\n",
    "    for i in text:\n",
    "        if i.isalnum():\n",
    "            word_list.append(i)\n",
    "\n",
    "    text = word_list[:]\n",
    "    word_list.clear()\n",
    "\n",
    "    for i in text:\n",
    "        if i not in stopwords.words('english') and i not in string.punctuation:\n",
    "            word_list.append(i)\n",
    "\n",
    "    text = word_list[:]\n",
    "    word_list.clear()\n",
    "\n",
    "    for i in text:\n",
    "        word_list.append(ps.stem(i))\n",
    "\n",
    "    return \" \".join(word_list)\n"
   ]
  },
  {
   "cell_type": "code",
   "execution_count": 59,
   "id": "185eee0f",
   "metadata": {
    "colab": {
     "base_uri": "https://localhost:8080/"
    },
    "id": "185eee0f",
    "outputId": "a12f80df-a99c-45be-8506-8f165a52b204"
   },
   "outputs": [
    {
     "data": {
      "text/plain": [
       "['i',\n",
       " 'me',\n",
       " 'my',\n",
       " 'myself',\n",
       " 'we',\n",
       " 'our',\n",
       " 'ours',\n",
       " 'ourselves',\n",
       " 'you',\n",
       " \"you're\",\n",
       " \"you've\",\n",
       " \"you'll\",\n",
       " \"you'd\",\n",
       " 'your',\n",
       " 'yours',\n",
       " 'yourself',\n",
       " 'yourselves',\n",
       " 'he',\n",
       " 'him',\n",
       " 'his',\n",
       " 'himself',\n",
       " 'she',\n",
       " \"she's\",\n",
       " 'her',\n",
       " 'hers',\n",
       " 'herself',\n",
       " 'it',\n",
       " \"it's\",\n",
       " 'its',\n",
       " 'itself',\n",
       " 'they',\n",
       " 'them',\n",
       " 'their',\n",
       " 'theirs',\n",
       " 'themselves',\n",
       " 'what',\n",
       " 'which',\n",
       " 'who',\n",
       " 'whom',\n",
       " 'this',\n",
       " 'that',\n",
       " \"that'll\",\n",
       " 'these',\n",
       " 'those',\n",
       " 'am',\n",
       " 'is',\n",
       " 'are',\n",
       " 'was',\n",
       " 'were',\n",
       " 'be',\n",
       " 'been',\n",
       " 'being',\n",
       " 'have',\n",
       " 'has',\n",
       " 'had',\n",
       " 'having',\n",
       " 'do',\n",
       " 'does',\n",
       " 'did',\n",
       " 'doing',\n",
       " 'a',\n",
       " 'an',\n",
       " 'the',\n",
       " 'and',\n",
       " 'but',\n",
       " 'if',\n",
       " 'or',\n",
       " 'because',\n",
       " 'as',\n",
       " 'until',\n",
       " 'while',\n",
       " 'of',\n",
       " 'at',\n",
       " 'by',\n",
       " 'for',\n",
       " 'with',\n",
       " 'about',\n",
       " 'against',\n",
       " 'between',\n",
       " 'into',\n",
       " 'through',\n",
       " 'during',\n",
       " 'before',\n",
       " 'after',\n",
       " 'above',\n",
       " 'below',\n",
       " 'to',\n",
       " 'from',\n",
       " 'up',\n",
       " 'down',\n",
       " 'in',\n",
       " 'out',\n",
       " 'on',\n",
       " 'off',\n",
       " 'over',\n",
       " 'under',\n",
       " 'again',\n",
       " 'further',\n",
       " 'then',\n",
       " 'once',\n",
       " 'here',\n",
       " 'there',\n",
       " 'when',\n",
       " 'where',\n",
       " 'why',\n",
       " 'how',\n",
       " 'all',\n",
       " 'any',\n",
       " 'both',\n",
       " 'each',\n",
       " 'few',\n",
       " 'more',\n",
       " 'most',\n",
       " 'other',\n",
       " 'some',\n",
       " 'such',\n",
       " 'no',\n",
       " 'nor',\n",
       " 'not',\n",
       " 'only',\n",
       " 'own',\n",
       " 'same',\n",
       " 'so',\n",
       " 'than',\n",
       " 'too',\n",
       " 'very',\n",
       " 's',\n",
       " 't',\n",
       " 'can',\n",
       " 'will',\n",
       " 'just',\n",
       " 'don',\n",
       " \"don't\",\n",
       " 'should',\n",
       " \"should've\",\n",
       " 'now',\n",
       " 'd',\n",
       " 'll',\n",
       " 'm',\n",
       " 'o',\n",
       " 're',\n",
       " 've',\n",
       " 'y',\n",
       " 'ain',\n",
       " 'aren',\n",
       " \"aren't\",\n",
       " 'couldn',\n",
       " \"couldn't\",\n",
       " 'didn',\n",
       " \"didn't\",\n",
       " 'doesn',\n",
       " \"doesn't\",\n",
       " 'hadn',\n",
       " \"hadn't\",\n",
       " 'hasn',\n",
       " \"hasn't\",\n",
       " 'haven',\n",
       " \"haven't\",\n",
       " 'isn',\n",
       " \"isn't\",\n",
       " 'ma',\n",
       " 'mightn',\n",
       " \"mightn't\",\n",
       " 'mustn',\n",
       " \"mustn't\",\n",
       " 'needn',\n",
       " \"needn't\",\n",
       " 'shan',\n",
       " \"shan't\",\n",
       " 'shouldn',\n",
       " \"shouldn't\",\n",
       " 'wasn',\n",
       " \"wasn't\",\n",
       " 'weren',\n",
       " \"weren't\",\n",
       " 'won',\n",
       " \"won't\",\n",
       " 'wouldn',\n",
       " \"wouldn't\"]"
      ]
     },
     "execution_count": 59,
     "metadata": {},
     "output_type": "execute_result"
    }
   ],
   "source": [
    "from nltk.corpus import stopwords\n",
    "stopwords.words('english')"
   ]
  },
  {
   "cell_type": "code",
   "execution_count": 60,
   "id": "91416bde",
   "metadata": {
    "colab": {
     "base_uri": "https://localhost:8080/",
     "height": 35
    },
    "id": "91416bde",
    "outputId": "8e077bfe-16fa-4a69-c910-ac6a92674e2c"
   },
   "outputs": [
    {
     "data": {
      "text/plain": [
       "'!\"#$%&\\'()*+,-./:;<=>?@[\\\\]^_`{|}~'"
      ]
     },
     "execution_count": 60,
     "metadata": {},
     "output_type": "execute_result"
    }
   ],
   "source": [
    "import string\n",
    "string.punctuation"
   ]
  },
  {
   "cell_type": "code",
   "execution_count": 61,
   "id": "d3dc8e10",
   "metadata": {
    "colab": {
     "base_uri": "https://localhost:8080/",
     "height": 35
    },
    "id": "d3dc8e10",
    "outputId": "a6cfebd4-cc38-43b7-fd76-9353cafab7a1"
   },
   "outputs": [
    {
     "data": {
      "text/plain": [
       "'play'"
      ]
     },
     "execution_count": 61,
     "metadata": {},
     "output_type": "execute_result"
    }
   ],
   "source": [
    "from nltk.stem.porter import PorterStemmer\n",
    "ps = PorterStemmer()\n",
    "ps.stem('playing')"
   ]
  },
  {
   "cell_type": "code",
   "execution_count": 62,
   "id": "deef338e",
   "metadata": {
    "colab": {
     "base_uri": "https://localhost:8080/",
     "height": 69
    },
    "id": "deef338e",
    "outputId": "19802b65-9e0b-4a59-b59c-c599ea01a477"
   },
   "outputs": [
    {
     "data": {
      "text/plain": [
       "'cellular phone accessori wholesal price http free ear bud phone holster booster antenna phone case car charger face plate low lithium ion batteri low http accessori nokia motorola lg nextel samsung qualcomm ericsson audiovox phone wholesal price http need assist pleas call us 732 remov futur mail pleas send remov request removemenow68994 thank super day'"
      ]
     },
     "execution_count": 62,
     "metadata": {},
     "output_type": "execute_result"
    }
   ],
   "source": [
    "transform_text(\"Cellular Phone Accessories All At Below Wholesale Prices!http://202.101.163.34:81/sites/merchant/sales/Hands Free Ear Buds 1.99! \\nPhone Holsters 1.98! \\nBooster Antennas Only $0.99\\nPhone Cases 1.98! \\nCar Chargers 1.98! \\nFace Plates As Low As 0.99! \\nLithium Ion Batteries As Low As 6.94! http://202.101.163.34:81/sites/merchant/sales/Click Below For Accessories On All NOKIA, MOTOROLA LG, NEXTEL, \\nSAMSUNG, QUALCOMM, ERICSSON, AUDIOVOX PHONES At Below \\nWHOLESALE PRICES!http://202.101.163.34:81/sites/merchant/sales/***If You Need Assistance Please Call Us (732) 751-1457***\\n~~~~~~~~~~~~~~~~~~~~~~~~~~~~~~~~\\nTo be removed from future mailings please send your remove \\nrequest to: removemenow68994@btamail.net.cn \\nThank You and have a super day :)\")"
   ]
  },
  {
   "cell_type": "code",
   "execution_count": 63,
   "id": "d89b8e32",
   "metadata": {
    "colab": {
     "base_uri": "https://localhost:8080/",
     "height": 137
    },
    "id": "d89b8e32",
    "outputId": "13255665-91a4-450d-dafa-45c168657e39"
   },
   "outputs": [
    {
     "data": {
      "text/plain": [
       "'Cellular Phone Accessories All At Below Wholesale Prices!http://202.101.163.34:81/sites/merchant/sales/Hands Free Ear Buds 1.99! \\nPhone Holsters 1.98! \\nBooster Antennas Only $0.99\\nPhone Cases 1.98! \\nCar Chargers 1.98! \\nFace Plates As Low As 0.99! \\nLithium Ion Batteries As Low As 6.94! http://202.101.163.34:81/sites/merchant/sales/Click Below For Accessories On All NOKIA, MOTOROLA LG, NEXTEL, \\nSAMSUNG, QUALCOMM, ERICSSON, AUDIOVOX PHONES At Below \\nWHOLESALE PRICES!http://202.101.163.34:81/sites/merchant/sales/***If You Need Assistance Please Call Us (732) 751-1457***\\n~~~~~~~~~~~~~~~~~~~~~~~~~~~~~~~~\\nTo be removed from future mailings please send your remove \\nrequest to: removemenow68994@btamail.net.cn \\nThank You and have a super day :)'"
      ]
     },
     "execution_count": 63,
     "metadata": {},
     "output_type": "execute_result"
    }
   ],
   "source": [
    "df['Body'][10]"
   ]
  },
  {
   "cell_type": "code",
   "execution_count": 64,
   "id": "5c8dd4d4",
   "metadata": {
    "id": "5c8dd4d4"
   },
   "outputs": [],
   "source": [
    "df['Transformed_Body'] = df['Body'].apply(transform_text)"
   ]
  },
  {
   "cell_type": "code",
   "execution_count": 65,
   "id": "7acb79c5",
   "metadata": {
    "colab": {
     "base_uri": "https://localhost:8080/",
     "height": 495
    },
    "id": "7acb79c5",
    "outputId": "b30d59ca-47b3-42c9-8b19-7253312ffd61"
   },
   "outputs": [
    {
     "data": {
      "text/html": [
       "<div>\n",
       "<style scoped>\n",
       "    .dataframe tbody tr th:only-of-type {\n",
       "        vertical-align: middle;\n",
       "    }\n",
       "\n",
       "    .dataframe tbody tr th {\n",
       "        vertical-align: top;\n",
       "    }\n",
       "\n",
       "    .dataframe thead th {\n",
       "        text-align: right;\n",
       "    }\n",
       "</style>\n",
       "<table border=\"1\" class=\"dataframe\">\n",
       "  <thead>\n",
       "    <tr style=\"text-align: right;\">\n",
       "      <th></th>\n",
       "      <th>Body</th>\n",
       "      <th>Label</th>\n",
       "      <th>Char_Count</th>\n",
       "      <th>Word_Count</th>\n",
       "      <th>Sentence_Count</th>\n",
       "      <th>Transformed_Body</th>\n",
       "    </tr>\n",
       "  </thead>\n",
       "  <tbody>\n",
       "    <tr>\n",
       "      <th>2204</th>\n",
       "      <td>Uh, WWII Enigma was cracked at Bletchly Park, ...</td>\n",
       "      <td>0</td>\n",
       "      <td>775</td>\n",
       "      <td>142</td>\n",
       "      <td>6</td>\n",
       "      <td>uh wwii enigma crack bletchli park base work p...</td>\n",
       "    </tr>\n",
       "    <tr>\n",
       "      <th>4573</th>\n",
       "      <td>ThosStew@aol.com writes:&gt; In a message dated 7...</td>\n",
       "      <td>0</td>\n",
       "      <td>1425</td>\n",
       "      <td>275</td>\n",
       "      <td>9</td>\n",
       "      <td>thosstew write messag date pm dl write will co...</td>\n",
       "    </tr>\n",
       "    <tr>\n",
       "      <th>4934</th>\n",
       "      <td>Hi.Dave Cridland  wrote:&gt; &gt; recommends *agains...</td>\n",
       "      <td>0</td>\n",
       "      <td>671</td>\n",
       "      <td>131</td>\n",
       "      <td>3</td>\n",
       "      <td>cridland wrote recommend use configur tri supp...</td>\n",
       "    </tr>\n",
       "    <tr>\n",
       "      <th>7875</th>\n",
       "      <td>What i mean is do they come chase you out when...</td>\n",
       "      <td>0</td>\n",
       "      <td>113</td>\n",
       "      <td>27</td>\n",
       "      <td>1</td>\n",
       "      <td>mean come chase state watch mani movi want</td>\n",
       "    </tr>\n",
       "    <tr>\n",
       "      <th>208</th>\n",
       "      <td>This email is being sent to zzzz@jmason.org. T...</td>\n",
       "      <td>1</td>\n",
       "      <td>5467</td>\n",
       "      <td>928</td>\n",
       "      <td>37</td>\n",
       "      <td>email sent zzzz unsubscrib pleas visit http ev...</td>\n",
       "    </tr>\n",
       "    <tr>\n",
       "      <th>1732</th>\n",
       "      <td>We met a family in our parent-baby group with ...</td>\n",
       "      <td>0</td>\n",
       "      <td>801</td>\n",
       "      <td>182</td>\n",
       "      <td>6</td>\n",
       "      <td>met famili group son born minut daughter unlik...</td>\n",
       "    </tr>\n",
       "    <tr>\n",
       "      <th>705</th>\n",
       "      <td>How would you like a 100% tax free Investment ...</td>\n",
       "      <td>1</td>\n",
       "      <td>591</td>\n",
       "      <td>85</td>\n",
       "      <td>3</td>\n",
       "      <td>would like 100 tax free invest oil ga well mak...</td>\n",
       "    </tr>\n",
       "    <tr>\n",
       "      <th>6321</th>\n",
       "      <td>I'm at work. Please call</td>\n",
       "      <td>0</td>\n",
       "      <td>24</td>\n",
       "      <td>7</td>\n",
       "      <td>2</td>\n",
       "      <td>work pleas call</td>\n",
       "    </tr>\n",
       "    <tr>\n",
       "      <th>10282</th>\n",
       "      <td>Good day to You too.Pray for me.Remove the tee...</td>\n",
       "      <td>0</td>\n",
       "      <td>88</td>\n",
       "      <td>16</td>\n",
       "      <td>1</td>\n",
       "      <td>good day teeth pain maintain stuff</td>\n",
       "    </tr>\n",
       "    <tr>\n",
       "      <th>207</th>\n",
       "      <td>Would you like to know what the Powerball Winn...</td>\n",
       "      <td>1</td>\n",
       "      <td>637</td>\n",
       "      <td>116</td>\n",
       "      <td>4</td>\n",
       "      <td>would like know powerbal win lotteri number mo...</td>\n",
       "    </tr>\n",
       "  </tbody>\n",
       "</table>\n",
       "</div>"
      ],
      "text/plain": [
       "                                                    Body  Label  Char_Count  \\\n",
       "2204   Uh, WWII Enigma was cracked at Bletchly Park, ...      0         775   \n",
       "4573   ThosStew@aol.com writes:> In a message dated 7...      0        1425   \n",
       "4934   Hi.Dave Cridland  wrote:> > recommends *agains...      0         671   \n",
       "7875   What i mean is do they come chase you out when...      0         113   \n",
       "208    This email is being sent to zzzz@jmason.org. T...      1        5467   \n",
       "1732   We met a family in our parent-baby group with ...      0         801   \n",
       "705    How would you like a 100% tax free Investment ...      1         591   \n",
       "6321                            I'm at work. Please call      0          24   \n",
       "10282  Good day to You too.Pray for me.Remove the tee...      0          88   \n",
       "207    Would you like to know what the Powerball Winn...      1         637   \n",
       "\n",
       "       Word_Count  Sentence_Count  \\\n",
       "2204          142               6   \n",
       "4573          275               9   \n",
       "4934          131               3   \n",
       "7875           27               1   \n",
       "208           928              37   \n",
       "1732          182               6   \n",
       "705            85               3   \n",
       "6321            7               2   \n",
       "10282          16               1   \n",
       "207           116               4   \n",
       "\n",
       "                                        Transformed_Body  \n",
       "2204   uh wwii enigma crack bletchli park base work p...  \n",
       "4573   thosstew write messag date pm dl write will co...  \n",
       "4934   cridland wrote recommend use configur tri supp...  \n",
       "7875          mean come chase state watch mani movi want  \n",
       "208    email sent zzzz unsubscrib pleas visit http ev...  \n",
       "1732   met famili group son born minut daughter unlik...  \n",
       "705    would like 100 tax free invest oil ga well mak...  \n",
       "6321                                     work pleas call  \n",
       "10282                 good day teeth pain maintain stuff  \n",
       "207    would like know powerbal win lotteri number mo...  "
      ]
     },
     "execution_count": 65,
     "metadata": {},
     "output_type": "execute_result"
    }
   ],
   "source": [
    "df.sample(10)"
   ]
  },
  {
   "cell_type": "code",
   "execution_count": 66,
   "id": "1e9174f3",
   "metadata": {
    "id": "1e9174f3"
   },
   "outputs": [],
   "source": [
    "#conda install -c conda-forge wordcloud=1.9.2"
   ]
  },
  {
   "cell_type": "code",
   "execution_count": 67,
   "id": "7b2ef34c",
   "metadata": {
    "id": "7b2ef34c"
   },
   "outputs": [],
   "source": [
    "from wordcloud import WordCloud\n",
    "wc = WordCloud(width=500,height=500,min_font_size=10,background_color=\"white\")"
   ]
  },
  {
   "cell_type": "code",
   "execution_count": 68,
   "id": "13018728",
   "metadata": {
    "id": "13018728"
   },
   "outputs": [],
   "source": [
    "spam_wc = wc.generate(df[df['Label'] == 1]['Transformed_Body'].str.cat(sep = \" \"))"
   ]
  },
  {
   "cell_type": "code",
   "execution_count": 69,
   "id": "4d6da016",
   "metadata": {
    "colab": {
     "base_uri": "https://localhost:8080/",
     "height": 452
    },
    "id": "4d6da016",
    "outputId": "c62ffa92-4cf3-41db-a024-acf0034f628f"
   },
   "outputs": [
    {
     "data": {
      "text/plain": [
       "<matplotlib.image.AxesImage at 0x15710cbd0>"
      ]
     },
     "execution_count": 69,
     "metadata": {},
     "output_type": "execute_result"
    },
    {
     "data": {
      "image/png": "[encoded data removed]",
      "text/plain": [
       "<Figure size 640x480 with 1 Axes>"
      ]
     },
     "metadata": {},
     "output_type": "display_data"
    }
   ],
   "source": [
    "plt.imshow(spam_wc)"
   ]
  },
  {
   "cell_type": "code",
   "execution_count": 70,
   "id": "27e01f20",
   "metadata": {
    "id": "27e01f20"
   },
   "outputs": [],
   "source": [
    "ham_wc = wc.generate(df[df['Label'] == 0]['Transformed_Body'].str.cat(sep = \" \"))"
   ]
  },
  {
   "cell_type": "code",
   "execution_count": 71,
   "id": "64763cc7",
   "metadata": {
    "colab": {
     "base_uri": "https://localhost:8080/",
     "height": 452
    },
    "id": "64763cc7",
    "outputId": "0051514d-02f6-4025-a24a-4a669841861e",
    "scrolled": false
   },
   "outputs": [
    {
     "data": {
      "text/plain": [
       "<matplotlib.image.AxesImage at 0x1563b1550>"
      ]
     },
     "execution_count": 71,
     "metadata": {},
     "output_type": "execute_result"
    },
    {
     "data": {
      "image/png": "[encoded data removed]",
      "text/plain": [
       "<Figure size 640x480 with 1 Axes>"
      ]
     },
     "metadata": {},
     "output_type": "display_data"
    }
   ],
   "source": [
    "plt.imshow(ham_wc)"
   ]
  },
  {
   "cell_type": "code",
   "execution_count": 72,
   "id": "1f36dca1",
   "metadata": {
    "colab": {
     "base_uri": "https://localhost:8080/",
     "height": 289
    },
    "id": "1f36dca1",
    "outputId": "094b5847-83c5-4b74-9bfe-faa70a15c22c"
   },
   "outputs": [
    {
     "data": {
      "text/html": [
       "<div>\n",
       "<style scoped>\n",
       "    .dataframe tbody tr th:only-of-type {\n",
       "        vertical-align: middle;\n",
       "    }\n",
       "\n",
       "    .dataframe tbody tr th {\n",
       "        vertical-align: top;\n",
       "    }\n",
       "\n",
       "    .dataframe thead th {\n",
       "        text-align: right;\n",
       "    }\n",
       "</style>\n",
       "<table border=\"1\" class=\"dataframe\">\n",
       "  <thead>\n",
       "    <tr style=\"text-align: right;\">\n",
       "      <th></th>\n",
       "      <th>Body</th>\n",
       "      <th>Label</th>\n",
       "      <th>Char_Count</th>\n",
       "      <th>Word_Count</th>\n",
       "      <th>Sentence_Count</th>\n",
       "      <th>Transformed_Body</th>\n",
       "    </tr>\n",
       "  </thead>\n",
       "  <tbody>\n",
       "    <tr>\n",
       "      <th>0</th>\n",
       "      <td>\\nSave up to 70% on Life Insurance.\\nWhy Spend...</td>\n",
       "      <td>1</td>\n",
       "      <td>1111</td>\n",
       "      <td>191</td>\n",
       "      <td>12</td>\n",
       "      <td>save 70 life insur spend life quot save ensur ...</td>\n",
       "    </tr>\n",
       "    <tr>\n",
       "      <th>1</th>\n",
       "      <td>1) Fight The Risk of Cancer!\\nhttp://www.adcli...</td>\n",
       "      <td>1</td>\n",
       "      <td>753</td>\n",
       "      <td>139</td>\n",
       "      <td>5</td>\n",
       "      <td>1 fight risk cancer http slim guarante lose lb...</td>\n",
       "    </tr>\n",
       "    <tr>\n",
       "      <th>2</th>\n",
       "      <td>1) Fight The Risk of Cancer!\\nhttp://www.adcli...</td>\n",
       "      <td>1</td>\n",
       "      <td>610</td>\n",
       "      <td>113</td>\n",
       "      <td>4</td>\n",
       "      <td>1 fight risk cancer http slim guarante lose lb...</td>\n",
       "    </tr>\n",
       "    <tr>\n",
       "      <th>3</th>\n",
       "      <td>##############################################...</td>\n",
       "      <td>1</td>\n",
       "      <td>2863</td>\n",
       "      <td>690</td>\n",
       "      <td>35</td>\n",
       "      <td>adult club offer free membership instant acces...</td>\n",
       "    </tr>\n",
       "    <tr>\n",
       "      <th>4</th>\n",
       "      <td>I thought you might like these:\\n1) Slim Down ...</td>\n",
       "      <td>1</td>\n",
       "      <td>641</td>\n",
       "      <td>108</td>\n",
       "      <td>4</td>\n",
       "      <td>thought might like 1 slim guarante lose lb 30 ...</td>\n",
       "    </tr>\n",
       "  </tbody>\n",
       "</table>\n",
       "</div>"
      ],
      "text/plain": [
       "                                                Body  Label  Char_Count  \\\n",
       "0  \\nSave up to 70% on Life Insurance.\\nWhy Spend...      1        1111   \n",
       "1  1) Fight The Risk of Cancer!\\nhttp://www.adcli...      1         753   \n",
       "2  1) Fight The Risk of Cancer!\\nhttp://www.adcli...      1         610   \n",
       "3  ##############################################...      1        2863   \n",
       "4  I thought you might like these:\\n1) Slim Down ...      1         641   \n",
       "\n",
       "   Word_Count  Sentence_Count  \\\n",
       "0         191              12   \n",
       "1         139               5   \n",
       "2         113               4   \n",
       "3         690              35   \n",
       "4         108               4   \n",
       "\n",
       "                                    Transformed_Body  \n",
       "0  save 70 life insur spend life quot save ensur ...  \n",
       "1  1 fight risk cancer http slim guarante lose lb...  \n",
       "2  1 fight risk cancer http slim guarante lose lb...  \n",
       "3  adult club offer free membership instant acces...  \n",
       "4  thought might like 1 slim guarante lose lb 30 ...  "
      ]
     },
     "execution_count": 72,
     "metadata": {},
     "output_type": "execute_result"
    }
   ],
   "source": [
    "df.head()"
   ]
  },
  {
   "cell_type": "code",
   "execution_count": 73,
   "id": "14155508",
   "metadata": {
    "colab": {
     "base_uri": "https://localhost:8080/",
     "height": 606
    },
    "id": "14155508",
    "outputId": "3b297696-017c-4867-e6e6-72f049590aba",
    "scrolled": false
   },
   "outputs": [
    {
     "data": {
      "text/html": [
       "<div>\n",
       "<style scoped>\n",
       "    .dataframe tbody tr th:only-of-type {\n",
       "        vertical-align: middle;\n",
       "    }\n",
       "\n",
       "    .dataframe tbody tr th {\n",
       "        vertical-align: top;\n",
       "    }\n",
       "\n",
       "    .dataframe thead th {\n",
       "        text-align: right;\n",
       "    }\n",
       "</style>\n",
       "<table border=\"1\" class=\"dataframe\">\n",
       "  <thead>\n",
       "    <tr style=\"text-align: right;\">\n",
       "      <th></th>\n",
       "      <th>Body</th>\n",
       "      <th>Label</th>\n",
       "      <th>Char_Count</th>\n",
       "      <th>Word_Count</th>\n",
       "      <th>Sentence_Count</th>\n",
       "      <th>Transformed_Body</th>\n",
       "    </tr>\n",
       "  </thead>\n",
       "  <tbody>\n",
       "    <tr>\n",
       "      <th>0</th>\n",
       "      <td>\\nSave up to 70% on Life Insurance.\\nWhy Spend...</td>\n",
       "      <td>1</td>\n",
       "      <td>1111</td>\n",
       "      <td>191</td>\n",
       "      <td>12</td>\n",
       "      <td>save 70 life insur spend life quot save ensur ...</td>\n",
       "    </tr>\n",
       "    <tr>\n",
       "      <th>1</th>\n",
       "      <td>1) Fight The Risk of Cancer!\\nhttp://www.adcli...</td>\n",
       "      <td>1</td>\n",
       "      <td>753</td>\n",
       "      <td>139</td>\n",
       "      <td>5</td>\n",
       "      <td>1 fight risk cancer http slim guarante lose lb...</td>\n",
       "    </tr>\n",
       "    <tr>\n",
       "      <th>2</th>\n",
       "      <td>1) Fight The Risk of Cancer!\\nhttp://www.adcli...</td>\n",
       "      <td>1</td>\n",
       "      <td>610</td>\n",
       "      <td>113</td>\n",
       "      <td>4</td>\n",
       "      <td>1 fight risk cancer http slim guarante lose lb...</td>\n",
       "    </tr>\n",
       "    <tr>\n",
       "      <th>3</th>\n",
       "      <td>##############################################...</td>\n",
       "      <td>1</td>\n",
       "      <td>2863</td>\n",
       "      <td>690</td>\n",
       "      <td>35</td>\n",
       "      <td>adult club offer free membership instant acces...</td>\n",
       "    </tr>\n",
       "    <tr>\n",
       "      <th>4</th>\n",
       "      <td>I thought you might like these:\\n1) Slim Down ...</td>\n",
       "      <td>1</td>\n",
       "      <td>641</td>\n",
       "      <td>108</td>\n",
       "      <td>4</td>\n",
       "      <td>thought might like 1 slim guarante lose lb 30 ...</td>\n",
       "    </tr>\n",
       "    <tr>\n",
       "      <th>...</th>\n",
       "      <td>...</td>\n",
       "      <td>...</td>\n",
       "      <td>...</td>\n",
       "      <td>...</td>\n",
       "      <td>...</td>\n",
       "      <td>...</td>\n",
       "    </tr>\n",
       "    <tr>\n",
       "      <th>10419</th>\n",
       "      <td>Want explicit SEX in 30 secs? Ring 02073162414...</td>\n",
       "      <td>1</td>\n",
       "      <td>90</td>\n",
       "      <td>18</td>\n",
       "      <td>3</td>\n",
       "      <td>want explicit sex 30 sec ring 02073162414 cost...</td>\n",
       "    </tr>\n",
       "    <tr>\n",
       "      <th>10421</th>\n",
       "      <td>ASKED 3MOBILE IF 0870 CHATLINES INCLU IN FREE ...</td>\n",
       "      <td>1</td>\n",
       "      <td>160</td>\n",
       "      <td>38</td>\n",
       "      <td>6</td>\n",
       "      <td>ask 3mobil 0870 chatlin inclu free min india c...</td>\n",
       "    </tr>\n",
       "    <tr>\n",
       "      <th>10428</th>\n",
       "      <td>Had your contract mobile 11 Mnths? Latest Moto...</td>\n",
       "      <td>1</td>\n",
       "      <td>160</td>\n",
       "      <td>35</td>\n",
       "      <td>5</td>\n",
       "      <td>contract mobil 11 mnth latest motorola nokia e...</td>\n",
       "    </tr>\n",
       "    <tr>\n",
       "      <th>10445</th>\n",
       "      <td>REMINDER FROM O2: To get 2.50 pounds free call...</td>\n",
       "      <td>1</td>\n",
       "      <td>147</td>\n",
       "      <td>30</td>\n",
       "      <td>1</td>\n",
       "      <td>remind o2 get pound free call credit detail gr...</td>\n",
       "    </tr>\n",
       "    <tr>\n",
       "      <th>10446</th>\n",
       "      <td>This is the 2nd time we have tried 2 contact u...</td>\n",
       "      <td>1</td>\n",
       "      <td>161</td>\n",
       "      <td>35</td>\n",
       "      <td>4</td>\n",
       "      <td>2nd time tri 2 contact u pound prize 2 claim e...</td>\n",
       "    </tr>\n",
       "  </tbody>\n",
       "</table>\n",
       "<p>2020 rows × 6 columns</p>\n",
       "</div>"
      ],
      "text/plain": [
       "                                                    Body  Label  Char_Count  \\\n",
       "0      \\nSave up to 70% on Life Insurance.\\nWhy Spend...      1        1111   \n",
       "1      1) Fight The Risk of Cancer!\\nhttp://www.adcli...      1         753   \n",
       "2      1) Fight The Risk of Cancer!\\nhttp://www.adcli...      1         610   \n",
       "3      ##############################################...      1        2863   \n",
       "4      I thought you might like these:\\n1) Slim Down ...      1         641   \n",
       "...                                                  ...    ...         ...   \n",
       "10419  Want explicit SEX in 30 secs? Ring 02073162414...      1          90   \n",
       "10421  ASKED 3MOBILE IF 0870 CHATLINES INCLU IN FREE ...      1         160   \n",
       "10428  Had your contract mobile 11 Mnths? Latest Moto...      1         160   \n",
       "10445  REMINDER FROM O2: To get 2.50 pounds free call...      1         147   \n",
       "10446  This is the 2nd time we have tried 2 contact u...      1         161   \n",
       "\n",
       "       Word_Count  Sentence_Count  \\\n",
       "0             191              12   \n",
       "1             139               5   \n",
       "2             113               4   \n",
       "3             690              35   \n",
       "4             108               4   \n",
       "...           ...             ...   \n",
       "10419          18               3   \n",
       "10421          38               6   \n",
       "10428          35               5   \n",
       "10445          30               1   \n",
       "10446          35               4   \n",
       "\n",
       "                                        Transformed_Body  \n",
       "0      save 70 life insur spend life quot save ensur ...  \n",
       "1      1 fight risk cancer http slim guarante lose lb...  \n",
       "2      1 fight risk cancer http slim guarante lose lb...  \n",
       "3      adult club offer free membership instant acces...  \n",
       "4      thought might like 1 slim guarante lose lb 30 ...  \n",
       "...                                                  ...  \n",
       "10419  want explicit sex 30 sec ring 02073162414 cost...  \n",
       "10421  ask 3mobil 0870 chatlin inclu free min india c...  \n",
       "10428  contract mobil 11 mnth latest motorola nokia e...  \n",
       "10445  remind o2 get pound free call credit detail gr...  \n",
       "10446  2nd time tri 2 contact u pound prize 2 claim e...  \n",
       "\n",
       "[2020 rows x 6 columns]"
      ]
     },
     "execution_count": 73,
     "metadata": {},
     "output_type": "execute_result"
    }
   ],
   "source": [
    "df[df['Label'] == 1]"
   ]
  },
  {
   "cell_type": "code",
   "execution_count": 74,
   "id": "86d26a35",
   "metadata": {
    "id": "86d26a35"
   },
   "outputs": [],
   "source": [
    "spam_corpus = []\n",
    "for sentence in df[df['Label'] == 1]['Transformed_Body'].tolist():\n",
    "    for word in sentence.split():\n",
    "        spam_corpus.append(word)"
   ]
  },
  {
   "cell_type": "code",
   "execution_count": 75,
   "id": "2174f25c",
   "metadata": {
    "colab": {
     "base_uri": "https://localhost:8080/"
    },
    "id": "2174f25c",
    "outputId": "fd1120c9-e33a-4980-c4eb-89da93ab46f2"
   },
   "outputs": [
    {
     "data": {
      "text/plain": [
       "262191"
      ]
     },
     "execution_count": 75,
     "metadata": {},
     "output_type": "execute_result"
    }
   ],
   "source": [
    "len(spam_corpus)"
   ]
  },
  {
   "cell_type": "code",
   "execution_count": 76,
   "id": "36d51ef0",
   "metadata": {
    "id": "36d51ef0",
    "scrolled": false
   },
   "outputs": [],
   "source": [
    "from collections import Counter\n",
    "common_words = Counter(spam_corpus).most_common(30)"
   ]
  },
  {
   "cell_type": "code",
   "execution_count": 77,
   "id": "4226ffab",
   "metadata": {
    "id": "4226ffab"
   },
   "outputs": [],
   "source": [
    "df_common_words = pd.DataFrame(common_words, columns=['Word', 'Count'])"
   ]
  },
  {
   "cell_type": "code",
   "execution_count": 78,
   "id": "8e979815",
   "metadata": {
    "colab": {
     "base_uri": "https://localhost:8080/",
     "height": 495
    },
    "id": "8e979815",
    "outputId": "f1591d1a-f212-467c-8c66-b8a08eadd20b",
    "scrolled": false
   },
   "outputs": [
    {
     "data": {
      "image/png": "[encoded data removed]",
      "text/plain": [
       "<Figure size 640x480 with 1 Axes>"
      ]
     },
     "metadata": {},
     "output_type": "display_data"
    }
   ],
   "source": [
    "sns.barplot(x='Word', y='Count', data=df_common_words)\n",
    "plt.xticks(rotation='vertical')\n",
    "plt.show()"
   ]
  },
  {
   "cell_type": "code",
   "execution_count": 79,
   "id": "af49bca4",
   "metadata": {
    "id": "af49bca4"
   },
   "outputs": [],
   "source": [
    "ham_corpus = []\n",
    "for sentence in df[df['Label'] == 0]['Transformed_Body'].tolist():\n",
    "    for word in sentence.split():\n",
    "        ham_corpus.append(word)"
   ]
  },
  {
   "cell_type": "code",
   "execution_count": 80,
   "id": "1aebd476",
   "metadata": {
    "id": "1aebd476"
   },
   "outputs": [],
   "source": [
    "common_words = Counter(ham_corpus).most_common(30)"
   ]
  },
  {
   "cell_type": "code",
   "execution_count": 81,
   "id": "7a62973c",
   "metadata": {
    "id": "7a62973c"
   },
   "outputs": [],
   "source": [
    "df_common_words = pd.DataFrame(common_words, columns=['Word', 'Count'])"
   ]
  },
  {
   "cell_type": "code",
   "execution_count": 82,
   "id": "8a7f3c4c",
   "metadata": {
    "colab": {
     "base_uri": "https://localhost:8080/",
     "height": 489
    },
    "id": "8a7f3c4c",
    "outputId": "089697aa-2196-40e1-ec6e-602a27a361ec"
   },
   "outputs": [
    {
     "data": {
      "image/png": "[encoded data removed]",
      "text/plain": [
       "<Figure size 640x480 with 1 Axes>"
      ]
     },
     "metadata": {},
     "output_type": "display_data"
    }
   ],
   "source": [
    "sns.barplot(x='Word', y='Count', data=df_common_words)\n",
    "plt.xticks(rotation='vertical')\n",
    "plt.show()"
   ]
  },
  {
   "cell_type": "markdown",
   "id": "97e3a9fc",
   "metadata": {
    "id": "97e3a9fc"
   },
   "source": [
    "## 4. Model Building"
   ]
  },
  {
   "cell_type": "code",
   "execution_count": 83,
   "id": "f0e6c4bd",
   "metadata": {
    "id": "f0e6c4bd"
   },
   "outputs": [],
   "source": [
    "from sklearn.feature_extraction.text import CountVectorizer,TfidfVectorizer\n",
    "cv = CountVectorizer()\n",
    "tf = TfidfVectorizer()"
   ]
  },
  {
   "cell_type": "code",
   "execution_count": 84,
   "id": "ed16575a",
   "metadata": {
    "id": "ed16575a"
   },
   "outputs": [],
   "source": [
    "X = tf.fit_transform(df['Transformed_Body']).toarray()"
   ]
  },
  {
   "cell_type": "code",
   "execution_count": 85,
   "id": "754ec9a1",
   "metadata": {
    "colab": {
     "base_uri": "https://localhost:8080/"
    },
    "id": "754ec9a1",
    "outputId": "2d07122d-a339-4428-f043-d600f2a74c40"
   },
   "outputs": [
    {
     "data": {
      "text/plain": [
       "array([[0., 0., 0., ..., 0., 0., 0.],\n",
       "       [0., 0., 0., ..., 0., 0., 0.],\n",
       "       [0., 0., 0., ..., 0., 0., 0.],\n",
       "       ...,\n",
       "       [0., 0., 0., ..., 0., 0., 0.],\n",
       "       [0., 0., 0., ..., 0., 0., 0.],\n",
       "       [0., 0., 0., ..., 0., 0., 0.]])"
      ]
     },
     "execution_count": 85,
     "metadata": {},
     "output_type": "execute_result"
    }
   ],
   "source": [
    "X"
   ]
  },
  {
   "cell_type": "code",
   "execution_count": 86,
   "id": "31f86cb7",
   "metadata": {
    "colab": {
     "base_uri": "https://localhost:8080/"
    },
    "id": "31f86cb7",
    "outputId": "5db3081c-63b0-4f9d-d28a-9b43d1fac7f0"
   },
   "outputs": [
    {
     "data": {
      "text/plain": [
       "(10451, 39667)"
      ]
     },
     "execution_count": 86,
     "metadata": {},
     "output_type": "execute_result"
    }
   ],
   "source": [
    "X.shape"
   ]
  },
  {
   "cell_type": "code",
   "execution_count": 87,
   "id": "4eafdc16",
   "metadata": {
    "id": "4eafdc16"
   },
   "outputs": [],
   "source": [
    "y = df['Label'].values"
   ]
  },
  {
   "cell_type": "code",
   "execution_count": 88,
   "id": "7614ed54",
   "metadata": {
    "colab": {
     "base_uri": "https://localhost:8080/"
    },
    "id": "7614ed54",
    "outputId": "9a74fea2-79f1-46ab-c9b4-dc8c8c1f302f"
   },
   "outputs": [
    {
     "data": {
      "text/plain": [
       "array([1, 1, 1, ..., 0, 0, 0])"
      ]
     },
     "execution_count": 88,
     "metadata": {},
     "output_type": "execute_result"
    }
   ],
   "source": [
    "y"
   ]
  },
  {
   "cell_type": "code",
   "execution_count": 89,
   "id": "34f61223",
   "metadata": {
    "id": "34f61223"
   },
   "outputs": [],
   "source": [
    "from sklearn.model_selection import train_test_split\n",
    "from sklearn.metrics import accuracy_score, precision_score, confusion_matrix"
   ]
  },
  {
   "cell_type": "code",
   "execution_count": 90,
   "id": "1a5e5537",
   "metadata": {
    "id": "1a5e5537"
   },
   "outputs": [],
   "source": [
    "X_train, X_test, y_train, y_test = train_test_split(X, y, test_size=0.2, random_state=2)"
   ]
  },
  {
   "cell_type": "code",
   "execution_count": 91,
   "id": "18ce43e9",
   "metadata": {
    "id": "18ce43e9"
   },
   "outputs": [],
   "source": [
    "from sklearn.naive_bayes import GaussianNB, MultinomialNB, BernoulliNB"
   ]
  },
  {
   "cell_type": "code",
   "execution_count": 92,
   "id": "016f8d3a",
   "metadata": {
    "id": "016f8d3a"
   },
   "outputs": [],
   "source": [
    "gnb = GaussianNB()\n",
    "mnb = MultinomialNB()\n",
    "bnb = BernoulliNB()"
   ]
  },
  {
   "cell_type": "code",
   "execution_count": 93,
   "id": "7953034a",
   "metadata": {
    "colab": {
     "base_uri": "https://localhost:8080/"
    },
    "id": "7953034a",
    "outputId": "c1a18d51-9344-440d-e90b-6d48b3089381"
   },
   "outputs": [
    {
     "name": "stdout",
     "output_type": "stream",
     "text": [
      "0.7790530846484935\n",
      "0.4554054054054054\n",
      "[[1292  403]\n",
      " [  59  337]]\n"
     ]
    }
   ],
   "source": [
    "gnb.fit(X_train,y_train)\n",
    "y_pred1 = gnb.predict(X_test)\n",
    "\n",
    "print(accuracy_score(y_test, y_pred1))\n",
    "print(precision_score(y_test, y_pred1))\n",
    "print(confusion_matrix(y_test, y_pred1))"
   ]
  },
  {
   "cell_type": "code",
   "execution_count": 94,
   "id": "83ea13bc",
   "metadata": {
    "colab": {
     "base_uri": "https://localhost:8080/"
    },
    "id": "83ea13bc",
    "outputId": "768c23ca-a944-4d39-85bb-8de08169277f"
   },
   "outputs": [
    {
     "name": "stdout",
     "output_type": "stream",
     "text": [
      "0.9067431850789096\n",
      "1.0\n",
      "[[1695    0]\n",
      " [ 195  201]]\n"
     ]
    }
   ],
   "source": [
    "mnb.fit(X_train,y_train)\n",
    "y_pred2 = mnb.predict(X_test)\n",
    "\n",
    "print(accuracy_score(y_test, y_pred2))\n",
    "print(precision_score(y_test, y_pred2))\n",
    "print(confusion_matrix(y_test, y_pred2))"
   ]
  },
  {
   "cell_type": "code",
   "execution_count": 95,
   "id": "5bd422ee",
   "metadata": {
    "colab": {
     "base_uri": "https://localhost:8080/"
    },
    "id": "5bd422ee",
    "outputId": "d113acd6-770b-4730-95f3-39cd5169467b"
   },
   "outputs": [
    {
     "name": "stdout",
     "output_type": "stream",
     "text": [
      "0.8699186991869918\n",
      "0.7198581560283688\n",
      "[[1616   79]\n",
      " [ 193  203]]\n"
     ]
    }
   ],
   "source": [
    "bnb.fit(X_train,y_train)\n",
    "y_pred3 = bnb.predict(X_test)\n",
    "\n",
    "print(accuracy_score(y_test, y_pred3))\n",
    "print(precision_score(y_test, y_pred3))\n",
    "print(confusion_matrix(y_test, y_pred3))"
   ]
  },
  {
   "cell_type": "code",
   "execution_count": 96,
   "id": "8368c6d2",
   "metadata": {
    "id": "8368c6d2"
   },
   "outputs": [],
   "source": [
    "# tfidf mnb"
   ]
  },
  {
   "cell_type": "code",
   "execution_count": 97,
   "id": "51e57864",
   "metadata": {
    "id": "51e57864"
   },
   "outputs": [],
   "source": [
    "#conda install -c conda-forge xgboost"
   ]
  },
  {
   "cell_type": "code",
   "execution_count": 98,
   "id": "9b632f40",
   "metadata": {
    "id": "9b632f40"
   },
   "outputs": [],
   "source": [
    "from sklearn.linear_model import LogisticRegression\n",
    "from sklearn.svm import SVC\n",
    "from sklearn.naive_bayes import MultinomialNB\n",
    "from sklearn.tree import DecisionTreeClassifier\n",
    "from sklearn.neighbors import KNeighborsClassifier\n",
    "from sklearn.ensemble import RandomForestClassifier\n",
    "from sklearn.ensemble import AdaBoostClassifier\n",
    "from sklearn.ensemble import BaggingClassifier\n",
    "from sklearn.ensemble import ExtraTreesClassifier\n",
    "from sklearn.ensemble import GradientBoostingClassifier\n",
    "#from xgboost import XGBClassifier"
   ]
  },
  {
   "cell_type": "code",
   "execution_count": 99,
   "id": "6822826c",
   "metadata": {
    "id": "6822826c"
   },
   "outputs": [],
   "source": [
    "svc = SVC(kernel='sigmoid', gamma=1.0)\n",
    "knc = KNeighborsClassifier()\n",
    "mnb = MultinomialNB()\n",
    "dtc = DecisionTreeClassifier(max_depth=5)\n",
    "lrc = LogisticRegression(solver='liblinear', penalty='l1')\n",
    "rfc = RandomForestClassifier(n_estimators=50, random_state=2)\n",
    "abc = AdaBoostClassifier(n_estimators=50, random_state=2)\n",
    "bc = BaggingClassifier(n_estimators=50, random_state=2)\n",
    "etc = ExtraTreesClassifier(n_estimators=50, random_state=2)\n",
    "gbdt = GradientBoostingClassifier(n_estimators=50,random_state=2)\n",
    "#xgb = XGBClassifier(n_estimators=50,random_state=2)"
   ]
  },
  {
   "cell_type": "code",
   "execution_count": 100,
   "id": "bb6c5699",
   "metadata": {
    "id": "bb6c5699"
   },
   "outputs": [],
   "source": [
    "classifiers = {\n",
    "    'SVC' : svc,\n",
    "    'KN' : knc,\n",
    "    'NB': mnb,\n",
    "    'DT': dtc,\n",
    "    'LR': lrc,\n",
    "    'RF': rfc,\n",
    "    'AdaBoost': abc,\n",
    "    'ETC': etc,\n",
    "    'GBDT':gbdt,\n",
    "    #'xgb':xgb\n",
    "}"
   ]
  },
  {
   "cell_type": "code",
   "execution_count": 101,
   "id": "860131cd",
   "metadata": {
    "id": "860131cd"
   },
   "outputs": [],
   "source": [
    "def train_classifier(classifiers,X_train,y_train,X_test,y_test):\n",
    "    classifiers.fit(X_train,y_train)\n",
    "    y_pred = classifiers.predict(X_test)\n",
    "    accuracy = accuracy_score(y_test,y_pred)\n",
    "    precision = precision_score(y_test,y_pred)\n",
    "\n",
    "    return accuracy,precision"
   ]
  },
  {
   "cell_type": "code",
   "execution_count": 102,
   "id": "7d6f6bd6",
   "metadata": {
    "id": "7d6f6bd6"
   },
   "outputs": [],
   "source": [
    "#train_classifier(svc,X_train,y_train,X_test,y_test)"
   ]
  },
  {
   "cell_type": "code",
   "execution_count": 103,
   "id": "304d27eb",
   "metadata": {
    "colab": {
     "base_uri": "https://localhost:8080/"
    },
    "id": "304d27eb",
    "outputId": "36858eea-6ec0-4d68-929b-a646cfcf1a0a",
    "scrolled": false
   },
   "outputs": [],
   "source": [
    "#accuracy_scores = []\n",
    "#precision_scores = []\n",
    "\n",
    "#for name,classifier in classifiers.items():\n",
    "\n",
    " #   current_accuracy,current_precision = train_classifier(classifier, X_train,y_train,X_test,y_test)\n",
    "\n",
    "  #  print(\"For \",name)\n",
    "  #  print(\"Accuracy - \",current_accuracy)\n",
    "  #  print(\"Precision - \",current_precision)\n",
    "\n",
    "   # accuracy_scores.append(current_accuracy)\n",
    "   # precision_scores.append(current_precision)"
   ]
  },
  {
   "cell_type": "code",
   "execution_count": 104,
   "id": "33d3fac2",
   "metadata": {
    "colab": {
     "base_uri": "https://localhost:8080/"
    },
    "id": "33d3fac2",
    "outputId": "fdd8acf6-af6a-4119-a789-dc0e87237516"
   },
   "outputs": [],
   "source": [
    "#classifiers"
   ]
  },
  {
   "cell_type": "code",
   "execution_count": 105,
   "id": "0ececece",
   "metadata": {
    "id": "0ececece"
   },
   "outputs": [],
   "source": [
    "#performance_df = pd.DataFrame({'Algorithm':classifiers.keys(),'Accuracy':accuracy_scores,'Precision':precision_scores}).sort_values('Precision',ascending=False)"
   ]
  },
  {
   "cell_type": "code",
   "execution_count": 106,
   "id": "19f1cdec",
   "metadata": {
    "colab": {
     "base_uri": "https://localhost:8080/",
     "height": 359
    },
    "id": "19f1cdec",
    "outputId": "102ebea6-4563-47fc-df7d-8fe55f8408fa"
   },
   "outputs": [],
   "source": [
    "#performance_df"
   ]
  },
  {
   "cell_type": "code",
   "execution_count": 107,
   "id": "5190f5e7",
   "metadata": {
    "id": "5190f5e7"
   },
   "outputs": [],
   "source": [
    "#performance_df1 = pd.DataFrame({'Algorithm':classifiers.keys(),'Accuracy':accuracy_scores,'Precision':precision_scores}).sort_values('Accuracy',ascending=False)"
   ]
  },
  {
   "cell_type": "code",
   "execution_count": 108,
   "id": "f6b2a594",
   "metadata": {
    "colab": {
     "base_uri": "https://localhost:8080/",
     "height": 359
    },
    "id": "f6b2a594",
    "outputId": "066cb65c-ce1b-47d7-b0cc-a220df093fda"
   },
   "outputs": [],
   "source": [
    "#performance_df1"
   ]
  },
  {
   "cell_type": "code",
   "execution_count": 109,
   "id": "398dcd1e",
   "metadata": {
    "id": "398dcd1e"
   },
   "outputs": [],
   "source": [
    "#performance_df2 = pd.melt(performance_df, id_vars = \"Algorithm\")"
   ]
  },
  {
   "cell_type": "code",
   "execution_count": 110,
   "id": "49bf6e5d",
   "metadata": {
    "colab": {
     "base_uri": "https://localhost:8080/",
     "height": 564
    },
    "id": "49bf6e5d",
    "outputId": "fdcbef5b-827c-4cb5-90e4-c48348a77165"
   },
   "outputs": [],
   "source": [
    "#sns.catplot(x = 'Algorithm', y='value',\n",
    "#               hue = 'variable',data=performance_df2, kind='bar',height=5)\n",
    "#plt.ylim(0.5,1.0)\n",
    "#plt.xticks(rotation='vertical')\n",
    "#plt.show()"
   ]
  },
  {
   "cell_type": "code",
   "execution_count": 111,
   "id": "e9e87549",
   "metadata": {
    "id": "e9e87549"
   },
   "outputs": [],
   "source": [
    "# voting classifier\n",
    "svc = SVC(kernel='sigmoid', gamma=1.0, probability=True)\n",
    "mnb = MultinomialNB()\n",
    "etc = ExtraTreesClassifier(n_estimators=50, random_state=2)\n",
    "\n",
    "from sklearn.ensemble import VotingClassifier"
   ]
  },
  {
   "cell_type": "code",
   "execution_count": 112,
   "id": "0dca04aa",
   "metadata": {
    "id": "0dca04aa"
   },
   "outputs": [],
   "source": [
    "voting = VotingClassifier(estimators=[('svm',svc),('nb',mnb),('etc',etc)],voting='soft')"
   ]
  },
  {
   "cell_type": "code",
   "execution_count": 113,
   "id": "zZIIiO7UEhkY",
   "metadata": {
    "colab": {
     "base_uri": "https://localhost:8080/",
     "height": 108
    },
    "id": "zZIIiO7UEhkY",
    "outputId": "7d696104-77a4-47a6-8d68-7dde415efc3b"
   },
   "outputs": [
    {
     "data": {
      "text/html": [
       "<style>#sk-container-id-1 {color: black;}#sk-container-id-1 pre{padding: 0;}#sk-container-id-1 div.sk-toggleable {background-color: white;}#sk-container-id-1 label.sk-toggleable__label {cursor: pointer;display: block;width: 100%;margin-bottom: 0;padding: 0.3em;box-sizing: border-box;text-align: center;}#sk-container-id-1 label.sk-toggleable__label-arrow:before {content: \"▸\";float: left;margin-right: 0.25em;color: #696969;}#sk-container-id-1 label.sk-toggleable__label-arrow:hover:before {color: black;}#sk-container-id-1 div.sk-estimator:hover label.sk-toggleable__label-arrow:before {color: black;}#sk-container-id-1 div.sk-toggleable__content {max-height: 0;max-width: 0;overflow: hidden;text-align: left;background-color: #f0f8ff;}#sk-container-id-1 div.sk-toggleable__content pre {margin: 0.2em;color: black;border-radius: 0.25em;background-color: #f0f8ff;}#sk-container-id-1 input.sk-toggleable__control:checked~div.sk-toggleable__content {max-height: 200px;max-width: 100%;overflow: auto;}#sk-container-id-1 input.sk-toggleable__control:checked~label.sk-toggleable__label-arrow:before {content: \"▾\";}#sk-container-id-1 div.sk-estimator input.sk-toggleable__control:checked~label.sk-toggleable__label {background-color: #d4ebff;}#sk-container-id-1 div.sk-label input.sk-toggleable__control:checked~label.sk-toggleable__label {background-color: #d4ebff;}#sk-container-id-1 input.sk-hidden--visually {border: 0;clip: rect(1px 1px 1px 1px);clip: rect(1px, 1px, 1px, 1px);height: 1px;margin: -1px;overflow: hidden;padding: 0;position: absolute;width: 1px;}#sk-container-id-1 div.sk-estimator {font-family: monospace;background-color: #f0f8ff;border: 1px dotted black;border-radius: 0.25em;box-sizing: border-box;margin-bottom: 0.5em;}#sk-container-id-1 div.sk-estimator:hover {background-color: #d4ebff;}#sk-container-id-1 div.sk-parallel-item::after {content: \"\";width: 100%;border-bottom: 1px solid gray;flex-grow: 1;}#sk-container-id-1 div.sk-label:hover label.sk-toggleable__label {background-color: #d4ebff;}#sk-container-id-1 div.sk-serial::before {content: \"\";position: absolute;border-left: 1px solid gray;box-sizing: border-box;top: 0;bottom: 0;left: 50%;z-index: 0;}#sk-container-id-1 div.sk-serial {display: flex;flex-direction: column;align-items: center;background-color: white;padding-right: 0.2em;padding-left: 0.2em;position: relative;}#sk-container-id-1 div.sk-item {position: relative;z-index: 1;}#sk-container-id-1 div.sk-parallel {display: flex;align-items: stretch;justify-content: center;background-color: white;position: relative;}#sk-container-id-1 div.sk-item::before, #sk-container-id-1 div.sk-parallel-item::before {content: \"\";position: absolute;border-left: 1px solid gray;box-sizing: border-box;top: 0;bottom: 0;left: 50%;z-index: -1;}#sk-container-id-1 div.sk-parallel-item {display: flex;flex-direction: column;z-index: 1;position: relative;background-color: white;}#sk-container-id-1 div.sk-parallel-item:first-child::after {align-self: flex-end;width: 50%;}#sk-container-id-1 div.sk-parallel-item:last-child::after {align-self: flex-start;width: 50%;}#sk-container-id-1 div.sk-parallel-item:only-child::after {width: 0;}#sk-container-id-1 div.sk-dashed-wrapped {border: 1px dashed gray;margin: 0 0.4em 0.5em 0.4em;box-sizing: border-box;padding-bottom: 0.4em;background-color: white;}#sk-container-id-1 div.sk-label label {font-family: monospace;font-weight: bold;display: inline-block;line-height: 1.2em;}#sk-container-id-1 div.sk-label-container {text-align: center;}#sk-container-id-1 div.sk-container {/* jupyter's `normalize.less` sets `[hidden] { display: none; }` but bootstrap.min.css set `[hidden] { display: none !important; }` so we also need the `!important` here to be able to override the default hidden behavior on the sphinx rendered scikit-learn.org. See: https://github.com/scikit-learn/scikit-learn/issues/21755 */display: inline-block !important;position: relative;}#sk-container-id-1 div.sk-text-repr-fallback {display: none;}</style><div id=\"sk-container-id-1\" class=\"sk-top-container\"><div class=\"sk-text-repr-fallback\"><pre>VotingClassifier(estimators=[(&#x27;svm&#x27;,\n",
       "                              SVC(gamma=1.0, kernel=&#x27;sigmoid&#x27;,\n",
       "                                  probability=True)),\n",
       "                             (&#x27;nb&#x27;, MultinomialNB()),\n",
       "                             (&#x27;etc&#x27;,\n",
       "                              ExtraTreesClassifier(n_estimators=50,\n",
       "                                                   random_state=2))],\n",
       "                 voting=&#x27;soft&#x27;)</pre><b>In a Jupyter environment, please rerun this cell to show the HTML representation or trust the notebook. <br />On GitHub, the HTML representation is unable to render, please try loading this page with nbviewer.org.</b></div><div class=\"sk-container\" hidden><div class=\"sk-item sk-dashed-wrapped\"><div class=\"sk-label-container\"><div class=\"sk-label sk-toggleable\"><input class=\"sk-toggleable__control sk-hidden--visually\" id=\"sk-estimator-id-1\" type=\"checkbox\" ><label for=\"sk-estimator-id-1\" class=\"sk-toggleable__label sk-toggleable__label-arrow\">VotingClassifier</label><div class=\"sk-toggleable__content\"><pre>VotingClassifier(estimators=[(&#x27;svm&#x27;,\n",
       "                              SVC(gamma=1.0, kernel=&#x27;sigmoid&#x27;,\n",
       "                                  probability=True)),\n",
       "                             (&#x27;nb&#x27;, MultinomialNB()),\n",
       "                             (&#x27;etc&#x27;,\n",
       "                              ExtraTreesClassifier(n_estimators=50,\n",
       "                                                   random_state=2))],\n",
       "                 voting=&#x27;soft&#x27;)</pre></div></div></div><div class=\"sk-parallel\"><div class=\"sk-parallel-item\"><div class=\"sk-item\"><div class=\"sk-label-container\"><div class=\"sk-label sk-toggleable\"><label>svm</label></div></div><div class=\"sk-serial\"><div class=\"sk-item\"><div class=\"sk-estimator sk-toggleable\"><input class=\"sk-toggleable__control sk-hidden--visually\" id=\"sk-estimator-id-2\" type=\"checkbox\" ><label for=\"sk-estimator-id-2\" class=\"sk-toggleable__label sk-toggleable__label-arrow\">SVC</label><div class=\"sk-toggleable__content\"><pre>SVC(gamma=1.0, kernel=&#x27;sigmoid&#x27;, probability=True)</pre></div></div></div></div></div></div><div class=\"sk-parallel-item\"><div class=\"sk-item\"><div class=\"sk-label-container\"><div class=\"sk-label sk-toggleable\"><label>nb</label></div></div><div class=\"sk-serial\"><div class=\"sk-item\"><div class=\"sk-estimator sk-toggleable\"><input class=\"sk-toggleable__control sk-hidden--visually\" id=\"sk-estimator-id-3\" type=\"checkbox\" ><label for=\"sk-estimator-id-3\" class=\"sk-toggleable__label sk-toggleable__label-arrow\">MultinomialNB</label><div class=\"sk-toggleable__content\"><pre>MultinomialNB()</pre></div></div></div></div></div></div><div class=\"sk-parallel-item\"><div class=\"sk-item\"><div class=\"sk-label-container\"><div class=\"sk-label sk-toggleable\"><label>etc</label></div></div><div class=\"sk-serial\"><div class=\"sk-item\"><div class=\"sk-estimator sk-toggleable\"><input class=\"sk-toggleable__control sk-hidden--visually\" id=\"sk-estimator-id-4\" type=\"checkbox\" ><label for=\"sk-estimator-id-4\" class=\"sk-toggleable__label sk-toggleable__label-arrow\">ExtraTreesClassifier</label><div class=\"sk-toggleable__content\"><pre>ExtraTreesClassifier(n_estimators=50, random_state=2)</pre></div></div></div></div></div></div></div></div></div></div>"
      ],
      "text/plain": [
       "VotingClassifier(estimators=[('svm',\n",
       "                              SVC(gamma=1.0, kernel='sigmoid',\n",
       "                                  probability=True)),\n",
       "                             ('nb', MultinomialNB()),\n",
       "                             ('etc',\n",
       "                              ExtraTreesClassifier(n_estimators=50,\n",
       "                                                   random_state=2))],\n",
       "                 voting='soft')"
      ]
     },
     "execution_count": 113,
     "metadata": {},
     "output_type": "execute_result"
    }
   ],
   "source": [
    "voting.fit(X_train,y_train)"
   ]
  },
  {
   "cell_type": "code",
   "execution_count": 114,
   "id": "51af5676",
   "metadata": {
    "colab": {
     "base_uri": "https://localhost:8080/"
    },
    "id": "51af5676",
    "outputId": "f188305b-dda9-4840-a1b8-797ac21b0b65"
   },
   "outputs": [
    {
     "name": "stdout",
     "output_type": "stream",
     "text": [
      "0.9708273553323769\n",
      "1.0\n",
      "[[1695    0]\n",
      " [  61  335]]\n"
     ]
    }
   ],
   "source": [
    "y_pred = voting.predict(X_test)\n",
    "print(accuracy_score(y_test, y_pred))\n",
    "print(precision_score(y_test, y_pred))\n",
    "print(confusion_matrix(y_test, y_pred))"
   ]
  },
  {
   "cell_type": "code",
   "execution_count": 123,
   "id": "186bc99b",
   "metadata": {},
   "outputs": [],
   "source": [
    "etc = ExtraTreesClassifier(n_estimators=50, random_state=2)"
   ]
  },
  {
   "cell_type": "code",
   "execution_count": 125,
   "id": "27c77733",
   "metadata": {},
   "outputs": [
    {
     "data": {
      "text/html": [
       "<style>#sk-container-id-2 {color: black;}#sk-container-id-2 pre{padding: 0;}#sk-container-id-2 div.sk-toggleable {background-color: white;}#sk-container-id-2 label.sk-toggleable__label {cursor: pointer;display: block;width: 100%;margin-bottom: 0;padding: 0.3em;box-sizing: border-box;text-align: center;}#sk-container-id-2 label.sk-toggleable__label-arrow:before {content: \"▸\";float: left;margin-right: 0.25em;color: #696969;}#sk-container-id-2 label.sk-toggleable__label-arrow:hover:before {color: black;}#sk-container-id-2 div.sk-estimator:hover label.sk-toggleable__label-arrow:before {color: black;}#sk-container-id-2 div.sk-toggleable__content {max-height: 0;max-width: 0;overflow: hidden;text-align: left;background-color: #f0f8ff;}#sk-container-id-2 div.sk-toggleable__content pre {margin: 0.2em;color: black;border-radius: 0.25em;background-color: #f0f8ff;}#sk-container-id-2 input.sk-toggleable__control:checked~div.sk-toggleable__content {max-height: 200px;max-width: 100%;overflow: auto;}#sk-container-id-2 input.sk-toggleable__control:checked~label.sk-toggleable__label-arrow:before {content: \"▾\";}#sk-container-id-2 div.sk-estimator input.sk-toggleable__control:checked~label.sk-toggleable__label {background-color: #d4ebff;}#sk-container-id-2 div.sk-label input.sk-toggleable__control:checked~label.sk-toggleable__label {background-color: #d4ebff;}#sk-container-id-2 input.sk-hidden--visually {border: 0;clip: rect(1px 1px 1px 1px);clip: rect(1px, 1px, 1px, 1px);height: 1px;margin: -1px;overflow: hidden;padding: 0;position: absolute;width: 1px;}#sk-container-id-2 div.sk-estimator {font-family: monospace;background-color: #f0f8ff;border: 1px dotted black;border-radius: 0.25em;box-sizing: border-box;margin-bottom: 0.5em;}#sk-container-id-2 div.sk-estimator:hover {background-color: #d4ebff;}#sk-container-id-2 div.sk-parallel-item::after {content: \"\";width: 100%;border-bottom: 1px solid gray;flex-grow: 1;}#sk-container-id-2 div.sk-label:hover label.sk-toggleable__label {background-color: #d4ebff;}#sk-container-id-2 div.sk-serial::before {content: \"\";position: absolute;border-left: 1px solid gray;box-sizing: border-box;top: 0;bottom: 0;left: 50%;z-index: 0;}#sk-container-id-2 div.sk-serial {display: flex;flex-direction: column;align-items: center;background-color: white;padding-right: 0.2em;padding-left: 0.2em;position: relative;}#sk-container-id-2 div.sk-item {position: relative;z-index: 1;}#sk-container-id-2 div.sk-parallel {display: flex;align-items: stretch;justify-content: center;background-color: white;position: relative;}#sk-container-id-2 div.sk-item::before, #sk-container-id-2 div.sk-parallel-item::before {content: \"\";position: absolute;border-left: 1px solid gray;box-sizing: border-box;top: 0;bottom: 0;left: 50%;z-index: -1;}#sk-container-id-2 div.sk-parallel-item {display: flex;flex-direction: column;z-index: 1;position: relative;background-color: white;}#sk-container-id-2 div.sk-parallel-item:first-child::after {align-self: flex-end;width: 50%;}#sk-container-id-2 div.sk-parallel-item:last-child::after {align-self: flex-start;width: 50%;}#sk-container-id-2 div.sk-parallel-item:only-child::after {width: 0;}#sk-container-id-2 div.sk-dashed-wrapped {border: 1px dashed gray;margin: 0 0.4em 0.5em 0.4em;box-sizing: border-box;padding-bottom: 0.4em;background-color: white;}#sk-container-id-2 div.sk-label label {font-family: monospace;font-weight: bold;display: inline-block;line-height: 1.2em;}#sk-container-id-2 div.sk-label-container {text-align: center;}#sk-container-id-2 div.sk-container {/* jupyter's `normalize.less` sets `[hidden] { display: none; }` but bootstrap.min.css set `[hidden] { display: none !important; }` so we also need the `!important` here to be able to override the default hidden behavior on the sphinx rendered scikit-learn.org. See: https://github.com/scikit-learn/scikit-learn/issues/21755 */display: inline-block !important;position: relative;}#sk-container-id-2 div.sk-text-repr-fallback {display: none;}</style><div id=\"sk-container-id-2\" class=\"sk-top-container\"><div class=\"sk-text-repr-fallback\"><pre>ExtraTreesClassifier(n_estimators=50, random_state=2)</pre><b>In a Jupyter environment, please rerun this cell to show the HTML representation or trust the notebook. <br />On GitHub, the HTML representation is unable to render, please try loading this page with nbviewer.org.</b></div><div class=\"sk-container\" hidden><div class=\"sk-item\"><div class=\"sk-estimator sk-toggleable\"><input class=\"sk-toggleable__control sk-hidden--visually\" id=\"sk-estimator-id-5\" type=\"checkbox\" checked><label for=\"sk-estimator-id-5\" class=\"sk-toggleable__label sk-toggleable__label-arrow\">ExtraTreesClassifier</label><div class=\"sk-toggleable__content\"><pre>ExtraTreesClassifier(n_estimators=50, random_state=2)</pre></div></div></div></div></div>"
      ],
      "text/plain": [
       "ExtraTreesClassifier(n_estimators=50, random_state=2)"
      ]
     },
     "execution_count": 125,
     "metadata": {},
     "output_type": "execute_result"
    }
   ],
   "source": [
    "etc.fit(X_train,y_train)"
   ]
  },
  {
   "cell_type": "code",
   "execution_count": 115,
   "id": "a26b427f",
   "metadata": {
    "id": "a26b427f"
   },
   "outputs": [],
   "source": [
    "# export part"
   ]
  },
  {
   "cell_type": "code",
   "execution_count": 126,
   "id": "bffb7997",
   "metadata": {},
   "outputs": [],
   "source": [
    "with open('etc_model.pkl', 'wb') as file:\n",
    "    pickle.dump(etc, file)"
   ]
  },
  {
   "cell_type": "code",
   "execution_count": 127,
   "id": "ef30db9c",
   "metadata": {},
   "outputs": [],
   "source": [
    "with open('etc_model.pkl', 'rb') as file:\n",
    "    loaded_model = pickle.load(file)"
   ]
  },
  {
   "cell_type": "code",
   "execution_count": 130,
   "id": "5791a68e",
   "metadata": {},
   "outputs": [
    {
     "name": "stdout",
     "output_type": "stream",
     "text": [
      "Enter Your Email:helo\n",
      "Ham\n",
      "The email is predicted to be non-spam with probability 85.36%.\n"
     ]
    }
   ],
   "source": [
    "\n",
    "input_email=input(\"Enter Your Email:\")\n",
    "transformed_email=transform_text(input_email)\n",
    "#print(transformed_email)\n",
    "vector_input1 = tfidf.transform([transformed_email]).toarray()\n",
    "#result = model.predict(vector_input)[0]\n",
    "predictions = loaded_model.predict(vector_input1)[0]\n",
    "if predictions==1:\n",
    "  print(\"Spam\")\n",
    "else:\n",
    "  print(\"Ham\")\n",
    "probabilities = model.predict_proba(vector_input)[0]\n",
    "probability_spam = probabilities[1]  # Probability of being spam\n",
    "\n",
    "# Display prediction and probability\n",
    "if probability_spam >= 0.5:\n",
    "    print(f'The email is predicted to be spam with probability {probability_spam:.2%}.')\n",
    "else:\n",
    "    print(f'The email is predicted to be non-spam with probability {(1 - probability_spam):.2%}.')"
   ]
  },
  {
   "cell_type": "code",
   "execution_count": 116,
   "id": "cc540ea4",
   "metadata": {
    "id": "cc540ea4"
   },
   "outputs": [],
   "source": [
    "import pickle\n",
    "\n",
    "pickle.dump(tf,open('vectorizer.pkl','wb'))\n",
    "pickle.dump(voting,open('model.pkl','wb'))"
   ]
  },
  {
   "cell_type": "code",
   "execution_count": 117,
   "id": "5d09aa35",
   "metadata": {
    "id": "5d09aa35"
   },
   "outputs": [],
   "source": [
    "# input part"
   ]
  },
  {
   "cell_type": "code",
   "execution_count": 118,
   "id": "T0QGbJuZLlC2",
   "metadata": {
    "id": "T0QGbJuZLlC2"
   },
   "outputs": [],
   "source": [
    "import pickle\n",
    "\n",
    "tfidf = pickle.load(open('vectorizer.pkl','rb'))\n",
    "model = pickle.load(open('model.pkl','rb'))"
   ]
  },
  {
   "cell_type": "code",
   "execution_count": 119,
   "id": "dd2b7170",
   "metadata": {},
   "outputs": [
    {
     "data": {
      "text/plain": [
       "['model.joblib']"
      ]
     },
     "execution_count": 119,
     "metadata": {},
     "output_type": "execute_result"
    }
   ],
   "source": [
    "import pickle\n",
    "import joblib\n",
    "\n",
    "# Dump the loaded objects to joblib format\n",
    "joblib.dump(tf, 'vectorizer.joblib')\n",
    "joblib.dump(voting, 'model.joblib')\n"
   ]
  },
  {
   "cell_type": "code",
   "execution_count": 120,
   "id": "ef815755",
   "metadata": {
    "colab": {
     "base_uri": "https://localhost:8080/"
    },
    "id": "ef815755",
    "outputId": "9d1d9e1f-c0c8-4d3f-c635-06659e9cfd06"
   },
   "outputs": [
    {
     "name": "stdout",
     "output_type": "stream",
     "text": [
      "Enter Your Email:helo\n",
      "Ham\n",
      "The email is predicted to be non-spam with probability 85.36%.\n"
     ]
    }
   ],
   "source": [
    "input_email=input(\"Enter Your Email:\")\n",
    "transformed_email=transform_text(input_email)\n",
    "#print(transformed_email)\n",
    "vector_input = tfidf.transform([transformed_email]).toarray()\n",
    "result = model.predict(vector_input)[0]\n",
    "if result==1:\n",
    "  print(\"Spam\")\n",
    "else:\n",
    "  print(\"Ham\")\n",
    "probabilities = model.predict_proba(vector_input)[0]\n",
    "probability_spam = probabilities[1]  # Probability of being spam\n",
    "\n",
    "# Display prediction and probability\n",
    "if probability_spam >= 0.5:\n",
    "    print(f'The email is predicted to be spam with probability {probability_spam:.2%}.')\n",
    "else:\n",
    "    print(f'The email is predicted to be non-spam with probability {(1 - probability_spam):.2%}.')"
   ]
  },
  {
   "cell_type": "code",
   "execution_count": 121,
   "id": "S7oLaGM4srRq",
   "metadata": {
    "colab": {
     "base_uri": "https://localhost:8080/"
    },
    "id": "S7oLaGM4srRq",
    "outputId": "50f0c21f-fe85-4fcf-b221-cc4aaa510dfc",
    "scrolled": true
   },
   "outputs": [
    {
     "name": "stdout",
     "output_type": "stream",
     "text": [
      "The email is predicted to be non-spam with probability 85.36%.\n"
     ]
    }
   ],
   "source": [
    "probabilities = model.predict_proba(vector_input)[0]\n",
    "probability_spam = probabilities[1]  # Probability of being spam\n",
    "\n",
    "# Display prediction and probability\n",
    "if probability_spam >= 0.5:\n",
    "    print(f'The email is predicted to be spam with probability {probability_spam:.2%}.')\n",
    "else:\n",
    "    print(f'The email is predicted to be non-spam with probability {(1 - probability_spam):.2%}.')"
   ]
  },
  {
   "cell_type": "code",
   "execution_count": 122,
   "id": "NzCy7ZdRau8X",
   "metadata": {
    "colab": {
     "base_uri": "https://localhost:8080/"
    },
    "id": "NzCy7ZdRau8X",
    "outputId": "fd4018ef-11c9-49ee-a3fc-ef0af0259bf6",
    "scrolled": true
   },
   "outputs": [
    {
     "name": "stdout",
     "output_type": "stream",
     "text": [
      "Name: scikit-learn\r\n",
      "Version: 1.3.0\r\n",
      "Summary: A set of python modules for machine learning and data mining\r\n",
      "Home-page: http://scikit-learn.org\r\n",
      "Author: \r\n",
      "Author-email: \r\n",
      "License: new BSD\r\n",
      "Location: /Users/heramb/anaconda3/lib/python3.11/site-packages\r\n",
      "Requires: joblib, numpy, scipy, threadpoolctl\r\n",
      "Required-by: imbalanced-learn\r\n"
     ]
    }
   ],
   "source": [
    "!pip show scikit-learn"
   ]
  }
 ],
 "metadata": {
  "colab": {
   "provenance": []
  },
  "kernelspec": {
   "display_name": "Python 3 (ipykernel)",
   "language": "python",
   "name": "python3"
  },
  "language_info": {
   "codemirror_mode": {
    "name": "ipython",
    "version": 3
   },
   "file_extension": ".py",
   "mimetype": "text/x-python",
   "name": "python",
   "nbconvert_exporter": "python",
   "pygments_lexer": "ipython3",
   "version": "3.11.5"
  }
 },
 "nbformat": 4,
 "nbformat_minor": 5
}
